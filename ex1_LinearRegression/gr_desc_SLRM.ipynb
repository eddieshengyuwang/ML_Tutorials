{
 "cells": [
  {
   "cell_type": "markdown",
   "metadata": {},
   "source": [
    "# SLRM, Gradient Descent Tutorial\n",
    "<br>\n",
    "A **Simple Linear Regression Model** is a statistical method of examining the linear relationship between two variables. \n",
    "\n",
    "This tutorial tackles the first assignment in Andrew Ng's Machine Learning course on Coursera, except implemented in Python rather than Octave. We will dive into an introduction to gradient descent and implement simple linear regression, our first machine learning algorithm!\n",
    "\n",
    "To provide background, within this directory is a file named \"ex1data1.txt\", which is a set of raw data points seperated by a comma. Suppose you are a restaurant owner and want to know where to expand. The first column refers to the population of different cities you already have restaruants in and the second column refers to profit of that restaruant. "
   ]
  },
  {
   "cell_type": "markdown",
   "metadata": {},
   "source": [
    "First thing we're gonna do is import the **pandas**, **numpy** and **matplotlib** libraries.  \n"
   ]
  },
  {
   "cell_type": "code",
   "execution_count": 1,
   "metadata": {
    "collapsed": true
   },
   "outputs": [],
   "source": [
    "import pandas as pd\n",
    "import numpy as np\n",
    "import matplotlib.pyplot as plt\n",
    "%matplotlib inline"
   ]
  },
  {
   "cell_type": "markdown",
   "metadata": {},
   "source": [
    "- *Pandas* is a library for data manipulation and analysis. We are going to be using it maining for storing data into DataFrames, aka a table.\n",
    "\n",
    "\n",
    "- *Numpy* is library used for storing numbers into vectors/matrices. This is important so that we can perform linear algebra operations, (ie. matrix multiplication) on our data. More of this will be discussed when we get to **vectorization.** \n",
    "\n",
    "\n",
    "- *Matplotlib* is a library used for visualizing our data through plots."
   ]
  },
  {
   "cell_type": "code",
   "execution_count": 2,
   "metadata": {
    "collapsed": false,
    "scrolled": true
   },
   "outputs": [
    {
     "name": "stdout",
     "output_type": "stream",
     "text": [
      "   Population   Profit\n",
      "0      6.1101  17.5920\n",
      "1      5.5277   9.1302\n",
      "2      8.5186  13.6620\n",
      "3      7.0032  11.8540\n",
      "4      5.8598   6.8233\n",
      "\n",
      "\n",
      "    Population   Profit\n",
      "92      5.8707  7.20290\n",
      "93      5.3054  1.98690\n",
      "94      8.2934  0.14454\n",
      "95     13.3940  9.05510\n",
      "96      5.4369  0.61705\n"
     ]
    }
   ],
   "source": [
    "# pd.read_csv(...) function reads our comma-separated file \n",
    "# and returns a DataFrame (table).\n",
    "df = pd.read_csv('ex1data1.txt', names=['Population','Profit'])\n",
    "\n",
    "print(df.head(5)) # prints top 5 data points in our DataFrame\n",
    "print('\\n')\n",
    "print(df.tail(5)) # prints last 5 data points in our DataFrame"
   ]
  },
  {
   "cell_type": "markdown",
   "metadata": {},
   "source": [
    "Now that we have an overview of our DataFrame, let's visualize our **training data** (data we are going to base our model off of) in a plot!"
   ]
  },
  {
   "cell_type": "code",
   "execution_count": 3,
   "metadata": {
    "collapsed": false
   },
   "outputs": [
    {
     "data": {
      "image/png": "[encoded data removed]",
      "text/plain": [
       "<matplotlib.figure.Figure at 0x115520390>"
      ]
     },
     "metadata": {},
     "output_type": "display_data"
    }
   ],
   "source": [
    "X_originalData = df['Population'] # filtering out x data\n",
    "y_originalData = df['Profit']\n",
    "m = len(y_originalData) # number of data points\n",
    "\n",
    "plt.plot(X_originalData, y_originalData, 'rx') \n",
    "plt.xlabel('Population of City in 10,000s')\n",
    "plt.ylabel('Profit in $10,000s')\n",
    "\n",
    "plt.show() \n",
    "# Note: it is very important to write this line if you want to see\n",
    "# the resulting plot!"
   ]
  },
  {
   "cell_type": "markdown",
   "metadata": {},
   "source": [
    "Nice. It seems like the data points lie in a fairly straight line, but how do we find this **line of best fit**? Firstly, recall the equation of a line: \n",
    "\n",
    "$$ y = \\theta_0 + \\theta_1 x$$\n",
    "\n",
    "We are going to find our line of best fit through the *method of least squares*, which is to find $\\theta_0, \\theta_1$ values that minimize the sum of squared residuals (the verticle distance between our line and an observed data point). This sum is called the **cost** or **error**. The algorithm we are going to implement in order to solve for these $\\theta_0, \\theta_1$ values that minimize our error is called **gradient descent**. Let's do that now."
   ]
  },
  {
   "cell_type": "code",
   "execution_count": 4,
   "metadata": {
    "collapsed": false,
    "slideshow": {
     "slide_type": "-"
    }
   },
   "outputs": [],
   "source": [
    "# Firstly, we need to convert our columns into a numpy matrix \n",
    "# so that it is possible to do matrix multiplication\n",
    "X_matrix = df[['Population']].as_matrix() \n",
    "X_matrix = np.insert(X_matrix, 0, 1, axis=1) # note inserting a column of 1s\n",
    "X_matrix = np.matrix(X_matrix)\n",
    "y = df[['Profit']].as_matrix()"
   ]
  },
  {
   "cell_type": "markdown",
   "metadata": {},
   "source": [
    "Note that a column of 1s was inserted to our X_matrix. This is because we can represent $\\theta$ and $x$ as vectors:\n",
    "<br>\n",
    "<br>\n",
    "$$\\begin{pmatrix}\n",
    "x_0\\\\\n",
    "x_1 \n",
    "\\end{pmatrix}\n",
    "~~~~~~~~~~~~\\begin{pmatrix}\n",
    "\\theta_0\\\\\n",
    "\\theta_1 \n",
    "\\end{pmatrix}$$ \n",
    "<br>\n",
    "Thus the equation of a line is then simply the dot product of these vectors, with $\\theta_0$ multiplied by $x_0~(x_0 = 1).$\n"
   ]
  },
  {
   "cell_type": "markdown",
   "metadata": {},
   "source": [
    "Now to implement the gradient descent algorithm, we need a function to compute the error (cost) for any given $\\theta_0, \\theta_1$. The equation for this function is given by:\n",
    "<br><br>\n",
    "$$ Cost = \\frac{1}{2m}\\sum_{i = 1}^{m} (\\theta^Tx^{(i)} - y^{(i)})^2 = \\frac{1}{2m}\\sum_{i = 1}^{m} (\\theta_0x_0^{(i)} + \\theta_1x_1^{(i)} - y^{(i)})^2 \\\\= \\frac{1}{2m}\\sum_{i = 1}^{m} (\\theta_0 + \\theta_1x_1^{(i)} - y^{(i)})^2\n",
    "$$\n",
    "<br>\n",
    "Where $x^{(i)}, y^{(i)}$ represents the respective $i$-th $x,y$ data point (not raised to the power!). Note: $x_0^{(i)}$ is always = 1 from the 1s column added earlier. This is calculation is implemented in the ```computeCost(...)``` function"
   ]
  },
  {
   "cell_type": "code",
   "execution_count": 5,
   "metadata": {
    "collapsed": true
   },
   "outputs": [],
   "source": [
    "def computeCost(X, y, theta):\n",
    "    m = len(y)\n",
    "    cost = np.sum(np.square(X*theta - y))/(2*m)\n",
    "    return cost"
   ]
  },
  {
   "cell_type": "markdown",
   "metadata": {},
   "source": [
    "Note that we didn't use any for loops in order to perform the matrix multiplication for our cost. This is because we used numpy's powerful mathematical functions that did the multiplication for us. This saves the amount of code that needs to be written and is also more efficient than using loops for matrix multiplication performance-wise. This is known as **vectorization**."
   ]
  },
  {
   "cell_type": "markdown",
   "metadata": {},
   "source": [
    "Finally, onto the actual gradient descent algorithm. In a nutshell, the gradient represents the slope of steepest ascent at a point in the graph of a function. For example, if you were standing on a hill and you wanted to find the optimal way to reach the top of the hill, the gradient will tell you which direction you should take. \n",
    "\n",
    "Now since we want gradient **descent** in order to **minimize** our cost function, we stick a negative sign in front of the gradient when implementing our function. \n",
    "\n",
    "![](http://www.holehouse.org/mlclass/01_02_Introduction_regression_analysis_and_gr_files/Image%20[14].png) \n",
    "*Pretend you are on a point on this graph and want to reach the bottom. The gradient points to that direction and the gradient's magnitude is the slope in that direction.*  <br><br>\n",
    "\n",
    "\n",
    "Our function will iteratively fine tune our $\\theta_0, \\theta_1$ values by using the gradient, until we eventually get to a point where the function converges to the minimum of the cost function (which is what we want!).\n",
    "\n",
    "The algorithm for gradient descent is for each iteration, change:  \n",
    "$$ \\theta_0 = \\theta_0 - \\alpha\\frac{1}{m}\\sum_{i=1}^{m}(\\theta_0 + \\theta_1x^{(i)} - y^{(i)}) \\\\ \\theta_1 = \\theta_1 - \\alpha\\frac{1}{m}\\sum_{i=1}^{m}(\\theta_0 + \\theta_1x^{(i)} - y^{(i)})~ x^{(i)} $$\n",
    "\n",
    "where *m* is the number of data points and $\\alpha$ represents the \"learning rate\" or how far of a step you want to take in the direction of the gradient (ie 0.1 is a bigger step than 0.01). The last summation term is derived by taking the partial derivatives of the original cost function with respect to $\\theta_0$ and $\\theta_1$. Note that this requires some advanced calculus knowledge, so don't worry too much if this part seems a bit handwavy.  "
   ]
  },
  {
   "cell_type": "code",
   "execution_count": 6,
   "metadata": {
    "collapsed": false
   },
   "outputs": [
    {
     "name": "stdout",
     "output_type": "stream",
     "text": [
      "theta: \n",
      "[[-3.63029144]\n",
      " [ 1.16636235]]\n",
      "\n",
      " J_history:\n",
      "[[ 6.73719046]\n",
      " [ 5.93159357]\n",
      " [ 5.90115471]\n",
      " ..., \n",
      " [ 4.48343473]\n",
      " [ 4.48341145]\n",
      " [ 4.48338826]]\n"
     ]
    }
   ],
   "source": [
    "numCols = df.shape[1]\n",
    "theta = np.matrix(np.zeros((numCols,1)))\n",
    "# first initialize theta to be zeros\n",
    "\n",
    "iterations = 1500\n",
    "alpha = 0.01\n",
    "\n",
    "def gradientDescent(X, y, theta, alpha, num_iters):\n",
    "    m = len(y)\n",
    "    J_history = np.zeros((num_iters,1)) \n",
    "    # keep track of the value of each error as we iterate\n",
    "    \n",
    "    for i in range(num_iters):  \n",
    "        \n",
    "        error = X*theta - y\n",
    "        theta = theta - (alpha/m) * (X.T * error)\n",
    "        # Note the use of vectorization again\n",
    "        \n",
    "        J_history[[i]] = computeCost(X,y,theta)\n",
    "        # To see value of cost at each iteration\n",
    "    \n",
    "    return (theta, J_history)\n",
    "\n",
    "result = gradientDescent(X_matrix,y,theta,alpha,iterations)\n",
    "theta = result[0]\n",
    "J_history = result[1]\n",
    "\n",
    "print('theta: ')\n",
    "print(theta)\n",
    "print('\\n J_history:')\n",
    "print(J_history)"
   ]
  },
  {
   "cell_type": "markdown",
   "metadata": {},
   "source": [
    "Great! The gradient descent algorithm returned the optimal $(\\theta_0, \\theta_1)$ values (-3.63, 1.17) that gave a final mininmal cost of around 4.483. The final step is to visualize our line on graph so that we can see our hard work and make predictions!"
   ]
  },
  {
   "cell_type": "code",
   "execution_count": 7,
   "metadata": {
    "collapsed": false
   },
   "outputs": [
    {
     "data": {
      "image/png": "[encoded data removed]",
      "text/plain": [
       "<matplotlib.figure.Figure at 0x11899a048>"
      ]
     },
     "metadata": {},
     "output_type": "display_data"
    }
   ],
   "source": [
    "x_range = np.linspace(df.Population.min(), df.Population.max(), 100) \n",
    "# generates array of 100 evenly spaced numbers (not necessarily integers)\n",
    "# from df.Population.min() to df.Population.max()\n",
    "\n",
    "y_line = theta[1,0]*x_range + theta[0,0] # y = theta_1*x + theta_0\n",
    "\n",
    "plt.plot(x_range, y_line, label=\"Prediction\")\n",
    "plt.scatter(X_originalData , y_originalData, color=\"r\", marker='x',label=\"Training Data\")\n",
    "plt.xlabel('Population of City in 10,000s')\n",
    "plt.ylabel('Profit in $10,000s')\n",
    "plt.legend()\n",
    "plt.show()"
   ]
  },
  {
   "cell_type": "markdown",
   "metadata": {},
   "source": [
    "This next step is optional but sometimes we want to make sure that our cost function has converged. To see this, we plot the number of iterations our algorithm ran versus the cost value at each iteration and see if the graph reaches a decreasing plateau. "
   ]
  },
  {
   "cell_type": "code",
   "execution_count": 8,
   "metadata": {
    "collapsed": false
   },
   "outputs": [
    {
     "data": {
      "image/png": "[encoded data removed]",
      "text/plain": [
       "<matplotlib.figure.Figure at 0x115520320>"
      ]
     },
     "metadata": {},
     "output_type": "display_data"
    }
   ],
   "source": [
    "plt.plot(np.arange(iterations), J_history, 'r') \n",
    "# better to use arange than linspace when dealing with integer interval steps \n",
    "\n",
    "plt.xlabel('# of iterations')\n",
    "plt.ylabel('cost value')\n",
    "plt.show()"
   ]
  },
  {
   "cell_type": "markdown",
   "metadata": {},
   "source": [
    "It seems that the function has converged to its mimimum. Congratulations on writing your first machine learning algorithm! Now, we'll explore a much simpler way of performing the exact same linear regression using a python library called **scikit-learn**. "
   ]
  },
  {
   "cell_type": "code",
   "execution_count": 9,
   "metadata": {
    "collapsed": false
   },
   "outputs": [
    {
     "name": "stderr",
     "output_type": "stream",
     "text": [
      "/Users/eddiewang/anaconda/lib/python3.6/site-packages/numpy/core/fromnumeric.py:224: FutureWarning: reshape is deprecated and will raise in a subsequent release. Please use .values.reshape(...) instead\n",
      "  return reshape(newshape, order=order)\n"
     ]
    },
    {
     "data": {
      "image/png": "[encoded data removed]",
      "text/plain": [
       "<matplotlib.figure.Figure at 0x11a9532e8>"
      ]
     },
     "metadata": {},
     "output_type": "display_data"
    }
   ],
   "source": [
    "from sklearn import linear_model\n",
    "\n",
    "# create linear regression object \n",
    "regr = linear_model.LinearRegression()\n",
    "\n",
    "# note X_originalData.shape is (97,) but scikit requires shape to be (97,1)\n",
    "X_originalData = np.reshape(X_originalData,(m, 1))\n",
    "y_originalData = np.reshape(y_originalData,(m, 1)) # recall m = len(y_originalData)\n",
    "\n",
    "# training data set\n",
    "regr.fit(X_originalData, y_originalData)\n",
    "\n",
    "# making prediction and plotting data\n",
    "prediction = regr.predict(X_originalData) # returns an array of prediction values \n",
    "                                          # for every entry in X_originalData\n",
    "\n",
    "plt.scatter(X_originalData, y_originalData, color=\"r\", marker='x',label=\"Training Data\")\n",
    "plt.plot(X_originalData, prediction, label=\"Prediction\")\n",
    "plt.xlabel('Population of City in 10,000s')\n",
    "plt.ylabel('Profit in $10,000s')\n",
    "plt.legend()\n",
    "plt.show()"
   ]
  },
  {
   "cell_type": "markdown",
   "metadata": {},
   "source": [
    "Now we can actually predict profit values by supplying our own population of city parameter!"
   ]
  },
  {
   "cell_type": "code",
   "execution_count": 10,
   "metadata": {
    "collapsed": false
   },
   "outputs": [
    {
     "name": "stdout",
     "output_type": "stream",
     "text": [
      "[[ 5.05197145]]\n",
      "[[ 31.89522845]\n",
      " [ 67.68623777]]\n"
     ]
    }
   ],
   "source": [
    "print(regr.predict(7.5)) \n",
    "# population of 7.5 has profit of 5.05 based on prediction,\n",
    "# can check with graph above\n",
    "\n",
    "print(regr.predict(np.array([[30],[60]])))\n",
    "# population of 30, 60 has profit of 31.89, 67.69 respectively."
   ]
  },
  {
   "cell_type": "markdown",
   "metadata": {},
   "source": [
    "As you can tell, using scikit-learn is a much more practical method of performing linear regression. Again congrats on making through the first tutorial! The next steps are to implement multivariate linear regression, when there are more than two variables in the dataset. See you until then :)"
   ]
  }
 ],
 "metadata": {
  "kernelspec": {
   "display_name": "Python 3",
   "language": "python",
   "name": "python3"
  },
  "language_info": {
   "codemirror_mode": {
    "name": "ipython",
    "version": 3
   },
   "file_extension": ".py",
   "mimetype": "text/x-python",
   "name": "python",
   "nbconvert_exporter": "python",
   "pygments_lexer": "ipython3",
   "version": "3.6.0"
  }
 },
 "nbformat": 4,
 "nbformat_minor": 2
}
