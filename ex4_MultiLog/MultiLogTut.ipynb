{
 "cells": [
  {
   "cell_type": "code",
   "execution_count": 24,
   "metadata": {},
   "outputs": [
    {
     "name": "stdout",
     "output_type": "stream",
     "text": [
      "[[ 0.  0.  0. ...,  0.  0.  0.]\n",
      " [ 0.  0.  0. ...,  0.  0.  0.]\n",
      " [ 0.  0.  0. ...,  0.  0.  0.]\n",
      " ..., \n",
      " [ 0.  0.  0. ...,  0.  0.  0.]\n",
      " [ 0.  0.  0. ...,  0.  0.  0.]\n",
      " [ 0.  0.  0. ...,  0.  0.  0.]]\n"
     ]
    }
   ],
   "source": [
    "import pandas as pd\n",
    "import numpy as np\n",
    "import matplotlib.pyplot as plt\n",
    "import scipy.io\n",
    "import random\n",
    "\n",
    "data = scipy.io.loadmat('ex3data1.mat')\n",
    "print(data['X'])"
   ]
  },
  {
   "cell_type": "code",
   "execution_count": 29,
   "metadata": {},
   "outputs": [
    {
     "ename": "SyntaxError",
     "evalue": "invalid syntax (<ipython-input-29-3a38a2cfe3de>, line 11)",
     "output_type": "error",
     "traceback": [
      "\u001b[0;36m  File \u001b[0;32m\"<ipython-input-29-3a38a2cfe3de>\"\u001b[0;36m, line \u001b[0;32m11\u001b[0m\n\u001b[0;31m    if xIndex = 200:\u001b[0m\n\u001b[0m              ^\u001b[0m\n\u001b[0;31mSyntaxError\u001b[0m\u001b[0;31m:\u001b[0m invalid syntax\n"
     ]
    }
   ],
   "source": [
    "X = random.sample(list(data['X']),9)\n",
    "print(X)\n",
    "\n",
    "def visualizeDigits(X):\n",
    "    bigImg = np.zeros((200,200))\n",
    "    \n",
    "    xIndexBegin = 0\n",
    "    yIndexBegin = 0\n",
    "    \n",
    "    for x in X:\n",
    "        if xIndex = 200:\n",
    "            yIndex += 20\n",
    "            xIndex = 0\n",
    "        img = np.reshape(x, (20,20)).T\n",
    "        bigImg[xIndex:xIndex+20,yIndex:yIndex+20] = img\n",
    "        xIndex += 20\n",
    "    plt.imshow(bigImg)\n",
    "    plt.show()\n",
    "    return\n",
    "\n",
    "visualizeDigits(X)"
   ]
  },
  {
   "cell_type": "code",
   "execution_count": null,
   "metadata": {
    "collapsed": true
   },
   "outputs": [],
   "source": []
  }
 ],
 "metadata": {
  "kernelspec": {
   "display_name": "Python 3",
   "language": "python",
   "name": "python3"
  },
  "language_info": {
   "codemirror_mode": {
    "name": "ipython",
    "version": 3
   },
   "file_extension": ".py",
   "mimetype": "text/x-python",
   "name": "python",
   "nbconvert_exporter": "python",
   "pygments_lexer": "ipython3",
   "version": "3.6.3"
  }
 },
 "nbformat": 4,
 "nbformat_minor": 2
}
