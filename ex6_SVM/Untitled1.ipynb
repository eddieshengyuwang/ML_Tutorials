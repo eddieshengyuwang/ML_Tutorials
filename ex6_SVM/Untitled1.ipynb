{
 "cells": [
  {
   "cell_type": "code",
   "execution_count": 1,
   "metadata": {},
   "outputs": [
    {
     "name": "stdout",
     "output_type": "stream",
     "text": [
      "> Anyone knows how much it costs to host a web portal ?\n",
      ">\n",
      "Well, it depends on how many visitors you're expecting.\n",
      "This can be anywhere from less than 10 bucks a month to a couple of $100. \n",
      "You should checkout http://www.rackspace.com/ or perhaps Amazon EC2 \n",
      "if youre running something big..\n",
      "\n",
      "To unsubscribe yourself from this mailing list, send an email to:\n",
      "groupname-unsubscribe@egroups.com\n",
      "\n",
      "\n",
      "{'aa': '1', 'ab': '2', 'abil': '3', 'abl': '4', 'about': '5', 'abov': '6', 'absolut': '7', 'abus': '8', 'ac': '9', 'accept': '10', 'access': '11', 'accord': '12', 'account': '13', 'achiev': '14', 'acquir': '15', 'across': '16', 'act': '17', 'action': '18', 'activ': '19', 'actual': '20', 'ad': '21', 'adam': '22', 'add': '23', 'addit': '24', 'address': '25', 'administr': '26', 'adult': '27', 'advanc': '28', 'advantag': '29', 'advertis': '30', 'advic': '31', 'advis': '32', 'ae': '33', 'af': '34', 'affect': '35', 'affili': '36', 'afford': '37', 'africa': '38', 'after': '39', 'ag': '40', 'again': '41', 'against': '42', 'agenc': '43', 'agent': '44', 'ago': '45', 'agre': '46', 'agreement': '47', 'aid': '48', 'air': '49', 'al': '50', 'alb': '51', 'align': '52', 'all': '53', 'allow': '54', 'almost': '55', 'alon': '56', 'along': '57', 'alreadi': '58', 'alsa': '59', 'also': '60', 'altern': '61', 'although': '62', 'alwai': '63', 'am': '64', 'amaz': '65', 'america': '66', 'american': '67', 'among': '68', 'amount': '69', 'amp': '70', 'an': '71', 'analysi': '72', 'analyst': '73', 'and': '74', 'ani': '75', 'anim': '76', 'announc': '77', 'annual': '78', 'annuiti': '79', 'anoth': '80', 'answer': '81', 'anti': '82', 'anumb': '83', 'anybodi': '84', 'anymor': '85', 'anyon': '86', 'anyth': '87', 'anywai': '88', 'anywher': '89', 'aol': '90', 'ap': '91', 'apolog': '92', 'app': '93', 'appar': '94', 'appear': '95', 'appl': '96', 'appli': '97', 'applic': '98', 'appreci': '99', 'approach': '100', 'approv': '101', 'apt': '102', 'ar': '103', 'archiv': '104', 'area': '105', 'aren': '106', 'argument': '107', 'arial': '108', 'arm': '109', 'around': '110', 'arrai': '111', 'arriv': '112', 'art': '113', 'articl': '114', 'artist': '115', 'as': '116', 'ascii': '117', 'ask': '118', 'asset': '119', 'assist': '120', 'associ': '121', 'assum': '122', 'assur': '123', 'at': '124', 'atol': '125', 'attach': '126', 'attack': '127', 'attempt': '128', 'attent': '129', 'attornei': '130', 'attract': '131', 'audio': '132', 'aug': '133', 'august': '134', 'author': '135', 'auto': '136', 'autom': '137', 'automat': '138', 'avail': '139', 'averag': '140', 'avoid': '141', 'awai': '142', 'awar': '143', 'award': '144', 'ba': '145', 'babi': '146', 'back': '147', 'background': '148', 'backup': '149', 'bad': '150', 'balanc': '151', 'ban': '152', 'bank': '153', 'bar': '154', 'base': '155', 'basenumb': '156', 'basi': '157', 'basic': '158', 'bb': '159', 'bc': '160', 'bd': '161', 'be': '162', 'beat': '163', 'beberg': '164', 'becaus': '165', 'becom': '166', 'been': '167', 'befor': '168', 'begin': '169', 'behalf': '170', 'behavior': '171', 'behind': '172', 'believ': '173', 'below': '174', 'benefit': '175', 'best': '176', 'beta': '177', 'better': '178', 'between': '179', 'bf': '180', 'big': '181', 'bill': '182', 'billion': '183', 'bin': '184', 'binari': '185', 'bit': '186', 'black': '187', 'blank': '188', 'block': '189', 'blog': '190', 'blood': '191', 'blue': '192', 'bnumber': '193', 'board': '194', 'bodi': '195', 'boi': '196', 'bonu': '197', 'book': '198', 'boot': '199', 'border': '200', 'boss': '201', 'boston': '202', 'botan': '203', 'both': '204', 'bottl': '205', 'bottom': '206', 'boundari': '207', 'box': '208', 'brain': '209', 'brand': '210', 'break': '211', 'brian': '212', 'bring': '213', 'broadcast': '214', 'broker': '215', 'browser': '216', 'bug': '217', 'bui': '218', 'build': '219', 'built': '220', 'bulk': '221', 'burn': '222', 'bush': '223', 'busi': '224', 'but': '225', 'button': '226', 'by': '227', 'byte': '228', 'ca': '229', 'cabl': '230', 'cach': '231', 'calcul': '232', 'california': '233', 'call': '234', 'came': '235', 'camera': '236', 'campaign': '237', 'can': '238', 'canada': '239', 'cannot': '240', 'canon': '241', 'capabl': '242', 'capillari': '243', 'capit': '244', 'car': '245', 'card': '246', 'care': '247', 'career': '248', 'carri': '249', 'cartridg': '250', 'case': '251', 'cash': '252', 'cat': '253', 'catch': '254', 'categori': '255', 'caus': '256', 'cb': '257', 'cc': '258', 'cd': '259', 'ce': '260', 'cell': '261', 'cent': '262', 'center': '263', 'central': '264', 'centuri': '265', 'ceo': '266', 'certain': '267', 'certainli': '268', 'cf': '269', 'challeng': '270', 'chanc': '271', 'chang': '272', 'channel': '273', 'char': '274', 'charact': '275', 'charg': '276', 'charset': '277', 'chat': '278', 'cheap': '279', 'check': '280', 'cheer': '281', 'chief': '282', 'children': '283', 'china': '284', 'chip': '285', 'choic': '286', 'choos': '287', 'chri': '288', 'citi': '289', 'citizen': '290', 'civil': '291', 'claim': '292', 'class': '293', 'classifi': '294', 'clean': '295', 'clear': '296', 'clearli': '297', 'click': '298', 'client': '299', 'close': '300', 'clue': '301', 'cnet': '302', 'cnumber': '303', 'co': '304', 'code': '305', 'collect': '306', 'colleg': '307', 'color': '308', 'com': '309', 'combin': '310', 'come': '311', 'comfort': '312', 'command': '313', 'comment': '314', 'commentari': '315', 'commerci': '316', 'commiss': '317', 'commit': '318', 'common': '319', 'commun': '320', 'compani': '321', 'compar': '322', 'comparison': '323', 'compat': '324', 'compet': '325', 'competit': '326', 'compil': '327', 'complet': '328', 'comprehens': '329', 'comput': '330', 'concentr': '331', 'concept': '332', 'concern': '333', 'condit': '334', 'conf': '335', 'confer': '336', 'confid': '337', 'confidenti': '338', 'config': '339', 'configur': '340', 'confirm': '341', 'conflict': '342', 'confus': '343', 'congress': '344', 'connect': '345', 'consid': '346', 'consolid': '347', 'constitut': '348', 'construct': '349', 'consult': '350', 'consum': '351', 'contact': '352', 'contain': '353', 'content': '354', 'continu': '355', 'contract': '356', 'contribut': '357', 'control': '358', 'conveni': '359', 'convers': '360', 'convert': '361', 'cool': '362', 'cooper': '363', 'copi': '364', 'copyright': '365', 'core': '366', 'corpor': '367', 'correct': '368', 'correspond': '369', 'cost': '370', 'could': '371', 'couldn': '372', 'count': '373', 'countri': '374', 'coupl': '375', 'cours': '376', 'court': '377', 'cover': '378', 'coverag': '379', 'crash': '380', 'creat': '381', 'creativ': '382', 'credit': '383', 'critic': '384', 'cross': '385', 'cultur': '386', 'current': '387', 'custom': '388', 'cut': '389', 'cv': '390', 'da': '391', 'dagga': '392', 'dai': '393', 'daili': '394', 'dan': '395', 'danger': '396', 'dark': '397', 'data': '398', 'databas': '399', 'datapow': '400', 'date': '401', 'dave': '402', 'david': '403', 'dc': '404', 'de': '405', 'dead': '406', 'deal': '407', 'dear': '408', 'death': '409', 'debt': '410', 'decad': '411', 'decid': '412', 'decis': '413', 'declar': '414', 'declin': '415', 'decor': '416', 'default': '417', 'defend': '418', 'defens': '419', 'defin': '420', 'definit': '421', 'degre': '422', 'delai': '423', 'delet': '424', 'deliv': '425', 'deliveri': '426', 'dell': '427', 'demand': '428', 'democrat': '429', 'depart': '430', 'depend': '431', 'deposit': '432', 'describ': '433', 'descript': '434', 'deserv': '435', 'design': '436', 'desir': '437', 'desktop': '438', 'despit': '439', 'detail': '440', 'detect': '441', 'determin': '442', 'dev': '443', 'devel': '444', 'develop': '445', 'devic': '446', 'di': '447', 'dial': '448', 'did': '449', 'didn': '450', 'diet': '451', 'differ': '452', 'difficult': '453', 'digit': '454', 'direct': '455', 'directli': '456', 'director': '457', 'directori': '458', 'disabl': '459', 'discount': '460', 'discov': '461', 'discoveri': '462', 'discuss': '463', 'disk': '464', 'displai': '465', 'disposit': '466', 'distanc': '467', 'distribut': '468', 'dn': '469', 'dnumber': '470', 'do': '471', 'doc': '472', 'document': '473', 'doe': '474', 'doer': '475', 'doesn': '476', 'dollar': '477', 'dollarac': '478', 'dollarnumb': '479', 'domain': '480', 'don': '481', 'done': '482', 'dont': '483', 'doubl': '484', 'doubt': '485', 'down': '486', 'download': '487', 'dr': '488', 'draw': '489', 'dream': '490', 'drive': '491', 'driver': '492', 'drop': '493', 'drug': '494', 'due': '495', 'dure': '496', 'dvd': '497', 'dw': '498', 'dynam': '499', 'ea': '500', 'each': '501', 'earli': '502', 'earlier': '503', 'earn': '504', 'earth': '505', 'easi': '506', 'easier': '507', 'easili': '508', 'eat': '509', 'eb': '510', 'ebai': '511', 'ec': '512', 'echo': '513', 'econom': '514', 'economi': '515', 'ed': '516', 'edg': '517', 'edit': '518', 'editor': '519', 'educ': '520', 'eff': '521', 'effect': '522', 'effici': '523', 'effort': '524', 'either': '525', 'el': '526', 'electron': '527', 'elimin': '528', 'els': '529', 'email': '530', 'emailaddr': '531', 'emerg': '532', 'empir': '533', 'employ': '534', 'employe': '535', 'en': '536', 'enabl': '537', 'encod': '538', 'encourag': '539', 'end': '540', 'enemi': '541', 'enenkio': '542', 'energi': '543', 'engin': '544', 'english': '545', 'enhanc': '546', 'enjoi': '547', 'enough': '548', 'ensur': '549', 'enter': '550', 'enterpris': '551', 'entertain': '552', 'entir': '553', 'entri': '554', 'enumb': '555', 'environ': '556', 'equal': '557', 'equip': '558', 'equival': '559', 'error': '560', 'especi': '561', 'essenti': '562', 'establish': '563', 'estat': '564', 'estim': '565', 'et': '566', 'etc': '567', 'euro': '568', 'europ': '569', 'european': '570', 'even': '571', 'event': '572', 'eventu': '573', 'ever': '574', 'everi': '575', 'everyon': '576', 'everyth': '577', 'evid': '578', 'evil': '579', 'exactli': '580', 'exampl': '581', 'excel': '582', 'except': '583', 'exchang': '584', 'excit': '585', 'exclus': '586', 'execut': '587', 'exercis': '588', 'exist': '589', 'exmh': '590', 'expand': '591', 'expect': '592', 'expens': '593', 'experi': '594', 'expert': '595', 'expir': '596', 'explain': '597', 'explor': '598', 'express': '599', 'extend': '600', 'extens': '601', 'extra': '602', 'extract': '603', 'extrem': '604', 'ey': '605', 'fa': '606', 'face': '607', 'fact': '608', 'factor': '609', 'fail': '610', 'fair': '611', 'fall': '612', 'fals': '613', 'famili': '614', 'faq': '615', 'far': '616', 'fast': '617', 'faster': '618', 'fastest': '619', 'fat': '620', 'father': '621', 'favorit': '622', 'fax': '623', 'fb': '624', 'fd': '625', 'featur': '626', 'feder': '627', 'fee': '628', 'feed': '629', 'feedback': '630', 'feel': '631', 'femal': '632', 'few': '633', 'ffffff': '634', 'ffnumber': '635', 'field': '636', 'fight': '637', 'figur': '638', 'file': '639', 'fill': '640', 'film': '641', 'filter': '642', 'final': '643', 'financ': '644', 'financi': '645', 'find': '646', 'fine': '647', 'finish': '648', 'fire': '649', 'firewal': '650', 'firm': '651', 'first': '652', 'fit': '653', 'five': '654', 'fix': '655', 'flag': '656', 'flash': '657', 'flow': '658', 'fnumber': '659', 'focu': '660', 'folder': '661', 'folk': '662', 'follow': '663', 'font': '664', 'food': '665', 'for': '666', 'forc': '667', 'foreign': '668', 'forev': '669', 'forget': '670', 'fork': '671', 'form': '672', 'format': '673', 'former': '674', 'fortun': '675', 'forward': '676', 'found': '677', 'foundat': '678', 'four': '679', 'franc': '680', 'free': '681', 'freedom': '682', 'french': '683', 'freshrpm': '684', 'fri': '685', 'fridai': '686', 'friend': '687', 'from': '688', 'front': '689', 'ftoc': '690', 'ftp': '691', 'full': '692', 'fulli': '693', 'fun': '694', 'function': '695', 'fund': '696', 'further': '697', 'futur': '698', 'ga': '699', 'gain': '700', 'game': '701', 'gari': '702', 'garrigu': '703', 'gave': '704', 'gcc': '705', 'geek': '706', 'gener': '707', 'get': '708', 'gif': '709', 'gift': '710', 'girl': '711', 'give': '712', 'given': '713', 'global': '714', 'gnome': '715', 'gnu': '716', 'gnupg': '717', 'go': '718', 'goal': '719', 'god': '720', 'goe': '721', 'gold': '722', 'gone': '723', 'good': '724', 'googl': '725', 'got': '726', 'govern': '727', 'gpl': '728', 'grand': '729', 'grant': '730', 'graphic': '731', 'great': '732', 'greater': '733', 'ground': '734', 'group': '735', 'grow': '736', 'growth': '737', 'gt': '738', 'guarante': '739', 'guess': '740', 'gui': '741', 'guid': '742', 'ha': '743', 'hack': '744', 'had': '745', 'half': '746', 'ham': '747', 'hand': '748', 'handl': '749', 'happen': '750', 'happi': '751', 'hard': '752', 'hardwar': '753', 'hat': '754', 'hate': '755', 'have': '756', 'haven': '757', 'he': '758', 'head': '759', 'header': '760', 'headlin': '761', 'health': '762', 'hear': '763', 'heard': '764', 'heart': '765', 'heaven': '766', 'hei': '767', 'height': '768', 'held': '769', 'hello': '770', 'help': '771', 'helvetica': '772', 'her': '773', 'herba': '774', 'here': '775', 'hermio': '776', 'hettinga': '777', 'hi': '778', 'high': '779', 'higher': '780', 'highli': '781', 'highlight': '782', 'him': '783', 'histori': '784', 'hit': '785', 'hold': '786', 'home': '787', 'honor': '788', 'hope': '789', 'host': '790', 'hot': '791', 'hour': '792', 'hous': '793', 'how': '794', 'howev': '795', 'hp': '796', 'html': '797', 'http': '798', 'httpaddr': '799', 'huge': '800', 'human': '801', 'hundr': '802', 'ibm': '803', 'id': '804', 'idea': '805', 'ident': '806', 'identifi': '807', 'idnumb': '808', 'ie': '809', 'if': '810', 'ignor': '811', 'ii': '812', 'iii': '813', 'iiiiiiihnumberjnumberhnumberjnumberhnumb': '814', 'illeg': '815', 'im': '816', 'imag': '817', 'imagin': '818', 'immedi': '819', 'impact': '820', 'implement': '821', 'import': '822', 'impress': '823', 'improv': '824', 'in': '825', 'inc': '826', 'includ': '827', 'incom': '828', 'increas': '829', 'incred': '830', 'inde': '831', 'independ': '832', 'index': '833', 'india': '834', 'indian': '835', 'indic': '836', 'individu': '837', 'industri': '838', 'info': '839', 'inform': '840', 'initi': '841', 'inlin': '842', 'innov': '843', 'input': '844', 'insert': '845', 'insid': '846', 'instal': '847', 'instanc': '848', 'instant': '849', 'instead': '850', 'institut': '851', 'instruct': '852', 'insur': '853', 'int': '854', 'integr': '855', 'intel': '856', 'intellig': '857', 'intend': '858', 'interact': '859', 'interest': '860', 'interfac': '861', 'intern': '862', 'internet': '863', 'interview': '864', 'into': '865', 'intro': '866', 'introduc': '867', 'inumb': '868', 'invest': '869', 'investig': '870', 'investor': '871', 'invok': '872', 'involv': '873', 'ip': '874', 'ireland': '875', 'irish': '876', 'is': '877', 'island': '878', 'isn': '879', 'iso': '880', 'isp': '881', 'issu': '882', 'it': '883', 'item': '884', 'itself': '885', 'jabber': '886', 'jame': '887', 'java': '888', 'jim': '889', 'jnumberiiiiiiihepihepihf': '890', 'job': '891', 'joe': '892', 'john': '893', 'join': '894', 'journal': '895', 'judg': '896', 'judgment': '897', 'jul': '898', 'juli': '899', 'jump': '900', 'june': '901', 'just': '902', 'justin': '903', 'keep': '904', 'kei': '905', 'kept': '906', 'kernel': '907', 'kevin': '908', 'keyboard': '909', 'kid': '910', 'kill': '911', 'kind': '912', 'king': '913', 'kingdom': '914', 'knew': '915', 'know': '916', 'knowledg': '917', 'known': '918', 'la': '919', 'lack': '920', 'land': '921', 'languag': '922', 'laptop': '923', 'larg': '924', 'larger': '925', 'largest': '926', 'laser': '927', 'last': '928', 'late': '929', 'later': '930', 'latest': '931', 'launch': '932', 'law': '933', 'lawrenc': '934', 'le': '935', 'lead': '936', 'leader': '937', 'learn': '938', 'least': '939', 'leav': '940', 'left': '941', 'legal': '942', 'lender': '943', 'length': '944', 'less': '945', 'lesson': '946', 'let': '947', 'letter': '948', 'level': '949', 'lib': '950', 'librari': '951', 'licens': '952', 'life': '953', 'lifetim': '954', 'light': '955', 'like': '956', 'limit': '957', 'line': '958', 'link': '959', 'linux': '960', 'list': '961', 'listen': '962', 'littl': '963', 'live': '964', 'll': '965', 'lo': '966', 'load': '967', 'loan': '968', 'local': '969', 'locat': '970', 'lock': '971', 'lockergnom': '972', 'log': '973', 'long': '974', 'longer': '975', 'look': '976', 'lose': '977', 'loss': '978', 'lost': '979', 'lot': '980', 'love': '981', 'low': '982', 'lower': '983', 'lowest': '984', 'lt': '985', 'ma': '986', 'mac': '987', 'machin': '988', 'made': '989', 'magazin': '990', 'mai': '991', 'mail': '992', 'mailer': '993', 'main': '994', 'maintain': '995', 'major': '996', 'make': '997', 'maker': '998', 'male': '999', 'man': '1000', 'manag': '1001', 'mani': '1002', 'manual': '1003', 'manufactur': '1004', 'map': '1005', 'march': '1006', 'margin': '1007', 'mark': '1008', 'market': '1009', 'marshal': '1010', 'mass': '1011', 'master': '1012', 'match': '1013', 'materi': '1014', 'matter': '1015', 'matthia': '1016', 'mayb': '1017', 'me': '1018', 'mean': '1019', 'measur': '1020', 'mechan': '1021', 'media': '1022', 'medic': '1023', 'meet': '1024', 'member': '1025', 'membership': '1026', 'memori': '1027', 'men': '1028', 'mention': '1029', 'menu': '1030', 'merchant': '1031', 'messag': '1032', 'method': '1033', 'mh': '1034', 'michael': '1035', 'microsoft': '1036', 'middl': '1037', 'might': '1038', 'mike': '1039', 'mile': '1040', 'militari': '1041', 'million': '1042', 'mime': '1043', 'mind': '1044', 'mine': '1045', 'mini': '1046', 'minimum': '1047', 'minut': '1048', 'miss': '1049', 'mistak': '1050', 'mobil': '1051', 'mode': '1052', 'model': '1053', 'modem': '1054', 'modifi': '1055', 'modul': '1056', 'moment': '1057', 'mon': '1058', 'mondai': '1059', 'monei': '1060', 'monitor': '1061', 'month': '1062', 'monthli': '1063', 'more': '1064', 'morn': '1065', 'mortgag': '1066', 'most': '1067', 'mostli': '1068', 'mother': '1069', 'motiv': '1070', 'move': '1071', 'movi': '1072', 'mpnumber': '1073', 'mr': '1074', 'ms': '1075', 'msg': '1076', 'much': '1077', 'multi': '1078', 'multipart': '1079', 'multipl': '1080', 'murphi': '1081', 'music': '1082', 'must': '1083', 'my': '1084', 'myself': '1085', 'name': '1086', 'nation': '1087', 'natur': '1088', 'nbsp': '1089', 'near': '1090', 'nearli': '1091', 'necessari': '1092', 'need': '1093', 'neg': '1094', 'net': '1095', 'netscap': '1096', 'network': '1097', 'never': '1098', 'new': '1099', 'newslett': '1100', 'next': '1101', 'nextpart': '1102', 'nice': '1103', 'nigeria': '1104', 'night': '1105', 'no': '1106', 'nobodi': '1107', 'non': '1108', 'none': '1109', 'nor': '1110', 'normal': '1111', 'north': '1112', 'not': '1113', 'note': '1114', 'noth': '1115', 'notic': '1116', 'now': '1117', 'nt': '1118', 'null': '1119', 'number': '1120', 'numbera': '1121', 'numberam': '1122', 'numberanumb': '1123', 'numberb': '1124', 'numberbit': '1125', 'numberc': '1126', 'numbercb': '1127', 'numbercbr': '1128', 'numbercfont': '1129', 'numbercli': '1130', 'numbercnumb': '1131', 'numbercp': '1132', 'numberctd': '1133', 'numberd': '1134', 'numberdari': '1135', 'numberdnumb': '1136', 'numberenumb': '1137', 'numberf': '1138', 'numberfb': '1139', 'numberff': '1140', 'numberffont': '1141', 'numberfp': '1142', 'numberftd': '1143', 'numberk': '1144', 'numberm': '1145', 'numbermb': '1146', 'numberp': '1147', 'numberpd': '1148', 'numberpm': '1149', 'numberpx': '1150', 'numberst': '1151', 'numberth': '1152', 'numbertnumb': '1153', 'numberx': '1154', 'object': '1155', 'oblig': '1156', 'obtain': '1157', 'obvious': '1158', 'occur': '1159', 'oct': '1160', 'octob': '1161', 'of': '1162', 'off': '1163', 'offer': '1164', 'offic': '1165', 'offici': '1166', 'often': '1167', 'oh': '1168', 'ok': '1169', 'old': '1170', 'on': '1171', 'onc': '1172', 'onli': '1173', 'onlin': '1174', 'open': '1175', 'oper': '1176', 'opinion': '1177', 'opportun': '1178', 'opt': '1179', 'optim': '1180', 'option': '1181', 'or': '1182', 'order': '1183', 'org': '1184', 'organ': '1185', 'origin': '1186', 'os': '1187', 'osdn': '1188', 'other': '1189', 'otherwis': '1190', 'our': '1191', 'out': '1192', 'outlook': '1193', 'output': '1194', 'outsid': '1195', 'over': '1196', 'own': '1197', 'owner': '1198', 'oz': '1199', 'pacif': '1200', 'pack': '1201', 'packag': '1202', 'page': '1203', 'pai': '1204', 'paid': '1205', 'pain': '1206', 'palm': '1207', 'panel': '1208', 'paper': '1209', 'paragraph': '1210', 'parent': '1211', 'part': '1212', 'parti': '1213', 'particip': '1214', 'particular': '1215', 'particularli': '1216', 'partit': '1217', 'partner': '1218', 'pass': '1219', 'password': '1220', 'past': '1221', 'patch': '1222', 'patent': '1223', 'path': '1224', 'pattern': '1225', 'paul': '1226', 'payment': '1227', 'pc': '1228', 'peac': '1229', 'peopl': '1230', 'per': '1231', 'percent': '1232', 'percentag': '1233', 'perfect': '1234', 'perfectli': '1235', 'perform': '1236', 'perhap': '1237', 'period': '1238', 'perl': '1239', 'perman': '1240', 'permiss': '1241', 'person': '1242', 'pgp': '1243', 'phone': '1244', 'photo': '1245', 'php': '1246', 'phrase': '1247', 'physic': '1248', 'pick': '1249', 'pictur': '1250', 'piec': '1251', 'piiiiiiii': '1252', 'pipe': '1253', 'pjnumber': '1254', 'place': '1255', 'plai': '1256', 'plain': '1257', 'plan': '1258', 'planet': '1259', 'plant': '1260', 'planta': '1261', 'platform': '1262', 'player': '1263', 'pleas': '1264', 'plu': '1265', 'plug': '1266', 'pm': '1267', 'pocket': '1268', 'point': '1269', 'polic': '1270', 'polici': '1271', 'polit': '1272', 'poor': '1273', 'pop': '1274', 'popul': '1275', 'popular': '1276', 'port': '1277', 'posit': '1278', 'possibl': '1279', 'post': '1280', 'potenti': '1281', 'pound': '1282', 'powel': '1283', 'power': '1284', 'powershot': '1285', 'practic': '1286', 'pre': '1287', 'predict': '1288', 'prefer': '1289', 'premium': '1290', 'prepar': '1291', 'present': '1292', 'presid': '1293', 'press': '1294', 'pretti': '1295', 'prevent': '1296', 'previou': '1297', 'previous': '1298', 'price': '1299', 'principl': '1300', 'print': '1301', 'printabl': '1302', 'printer': '1303', 'privaci': '1304', 'privat': '1305', 'prize': '1306', 'pro': '1307', 'probabl': '1308', 'problem': '1309', 'procedur': '1310', 'process': '1311', 'processor': '1312', 'procmail': '1313', 'produc': '1314', 'product': '1315', 'profession': '1316', 'profil': '1317', 'profit': '1318', 'program': '1319', 'programm': '1320', 'progress': '1321', 'project': '1322', 'promis': '1323', 'promot': '1324', 'prompt': '1325', 'properti': '1326', 'propos': '1327', 'proprietari': '1328', 'prospect': '1329', 'protect': '1330', 'protocol': '1331', 'prove': '1332', 'proven': '1333', 'provid': '1334', 'proxi': '1335', 'pub': '1336', 'public': '1337', 'publish': '1338', 'pudg': '1339', 'pull': '1340', 'purchas': '1341', 'purpos': '1342', 'put': '1343', 'python': '1344', 'qnumber': '1345', 'qualifi': '1346', 'qualiti': '1347', 'quarter': '1348', 'question': '1349', 'quick': '1350', 'quickli': '1351', 'quit': '1352', 'quot': '1353', 'radio': '1354', 'ragga': '1355', 'rais': '1356', 'random': '1357', 'rang': '1358', 'rate': '1359', 'rather': '1360', 'ratio': '1361', 'razor': '1362', 'razornumb': '1363', 're': '1364', 'reach': '1365', 'read': '1366', 'reader': '1367', 'readi': '1368', 'real': '1369', 'realiz': '1370', 'realli': '1371', 'reason': '1372', 'receiv': '1373', 'recent': '1374', 'recipi': '1375', 'recommend': '1376', 'record': '1377', 'red': '1378', 'redhat': '1379', 'reduc': '1380', 'refer': '1381', 'refin': '1382', 'reg': '1383', 'regard': '1384', 'region': '1385', 'regist': '1386', 'regul': '1387', 'regular': '1388', 'rel': '1389', 'relat': '1390', 'relationship': '1391', 'releas': '1392', 'relev': '1393', 'reliabl': '1394', 'remain': '1395', 'rememb': '1396', 'remot': '1397', 'remov': '1398', 'replac': '1399', 'repli': '1400', 'report': '1401', 'repositori': '1402', 'repres': '1403', 'republ': '1404', 'request': '1405', 'requir': '1406', 'research': '1407', 'reserv': '1408', 'resid': '1409', 'resourc': '1410', 'respect': '1411', 'respond': '1412', 'respons': '1413', 'rest': '1414', 'result': '1415', 'retail': '1416', 'return': '1417', 'reveal': '1418', 'revenu': '1419', 'revers': '1420', 'review': '1421', 'revok': '1422', 'rh': '1423', 'rich': '1424', 'right': '1425', 'risk': '1426', 'road': '1427', 'robert': '1428', 'rock': '1429', 'role': '1430', 'roll': '1431', 'rom': '1432', 'roman': '1433', 'room': '1434', 'root': '1435', 'round': '1436', 'rpm': '1437', 'rss': '1438', 'rule': '1439', 'run': '1440', 'sa': '1441', 'safe': '1442', 'sai': '1443', 'said': '1444', 'sale': '1445', 'same': '1446', 'sampl': '1447', 'san': '1448', 'saou': '1449', 'sat': '1450', 'satellit': '1451', 'save': '1452', 'saw': '1453', 'scan': '1454', 'schedul': '1455', 'school': '1456', 'scienc': '1457', 'score': '1458', 'screen': '1459', 'script': '1460', 'se': '1461', 'search': '1462', 'season': '1463', 'second': '1464', 'secret': '1465', 'section': '1466', 'secur': '1467', 'see': '1468', 'seed': '1469', 'seek': '1470', 'seem': '1471', 'seen': '1472', 'select': '1473', 'self': '1474', 'sell': '1475', 'seminar': '1476', 'send': '1477', 'sender': '1478', 'sendmail': '1479', 'senior': '1480', 'sens': '1481', 'sensit': '1482', 'sent': '1483', 'sep': '1484', 'separ': '1485', 'septemb': '1486', 'sequenc': '1487', 'seri': '1488', 'serif': '1489', 'seriou': '1490', 'serv': '1491', 'server': '1492', 'servic': '1493', 'set': '1494', 'setup': '1495', 'seven': '1496', 'seventh': '1497', 'sever': '1498', 'sex': '1499', 'sexual': '1500', 'sf': '1501', 'shape': '1502', 'share': '1503', 'she': '1504', 'shell': '1505', 'ship': '1506', 'shop': '1507', 'short': '1508', 'shot': '1509', 'should': '1510', 'show': '1511', 'side': '1512', 'sign': '1513', 'signatur': '1514', 'signific': '1515', 'similar': '1516', 'simpl': '1517', 'simpli': '1518', 'sinc': '1519', 'sincer': '1520', 'singl': '1521', 'sit': '1522', 'site': '1523', 'situat': '1524', 'six': '1525', 'size': '1526', 'skeptic': '1527', 'skill': '1528', 'skin': '1529', 'skip': '1530', 'sleep': '1531', 'slow': '1532', 'small': '1533', 'smart': '1534', 'smoke': '1535', 'smtp': '1536', 'snumber': '1537', 'so': '1538', 'social': '1539', 'societi': '1540', 'softwar': '1541', 'sold': '1542', 'solut': '1543', 'solv': '1544', 'some': '1545', 'someon': '1546', 'someth': '1547', 'sometim': '1548', 'son': '1549', 'song': '1550', 'soni': '1551', 'soon': '1552', 'sorri': '1553', 'sort': '1554', 'sound': '1555', 'sourc': '1556', 'south': '1557', 'space': '1558', 'spain': '1559', 'spam': '1560', 'spamassassin': '1561', 'spamd': '1562', 'spammer': '1563', 'speak': '1564', 'spec': '1565', 'special': '1566', 'specif': '1567', 'specifi': '1568', 'speech': '1569', 'speed': '1570', 'spend': '1571', 'sponsor': '1572', 'sport': '1573', 'spot': '1574', 'src': '1575', 'ssh': '1576', 'st': '1577', 'stabl': '1578', 'staff': '1579', 'stai': '1580', 'stand': '1581', 'standard': '1582', 'star': '1583', 'start': '1584', 'state': '1585', 'statement': '1586', 'statu': '1587', 'step': '1588', 'steve': '1589', 'still': '1590', 'stock': '1591', 'stop': '1592', 'storag': '1593', 'store': '1594', 'stori': '1595', 'strategi': '1596', 'stream': '1597', 'street': '1598', 'string': '1599', 'strip': '1600', 'strong': '1601', 'structur': '1602', 'studi': '1603', 'stuff': '1604', 'stupid': '1605', 'style': '1606', 'subject': '1607', 'submit': '1608', 'subscrib': '1609', 'subscript': '1610', 'substanti': '1611', 'success': '1612', 'such': '1613', 'suffer': '1614', 'suggest': '1615', 'suit': '1616', 'sum': '1617', 'summari': '1618', 'summer': '1619', 'sun': '1620', 'super': '1621', 'suppli': '1622', 'support': '1623', 'suppos': '1624', 'sure': '1625', 'surpris': '1626', 'suse': '1627', 'suspect': '1628', 'sweet': '1629', 'switch': '1630', 'system': '1631', 'tab': '1632', 'tabl': '1633', 'tablet': '1634', 'tag': '1635', 'take': '1636', 'taken': '1637', 'talk': '1638', 'tape': '1639', 'target': '1640', 'task': '1641', 'tax': '1642', 'teach': '1643', 'team': '1644', 'tech': '1645', 'technic': '1646', 'techniqu': '1647', 'technolog': '1648', 'tel': '1649', 'telecom': '1650', 'telephon': '1651', 'tell': '1652', 'temperatur': '1653', 'templ': '1654', 'ten': '1655', 'term': '1656', 'termin': '1657', 'terror': '1658', 'terrorist': '1659', 'test': '1660', 'texa': '1661', 'text': '1662', 'than': '1663', 'thank': '1664', 'that': '1665', 'the': '1666', 'thei': '1667', 'their': '1668', 'them': '1669', 'themselv': '1670', 'then': '1671', 'theori': '1672', 'there': '1673', 'therefor': '1674', 'these': '1675', 'thi': '1676', 'thing': '1677', 'think': '1678', 'thinkgeek': '1679', 'third': '1680', 'those': '1681', 'though': '1682', 'thought': '1683', 'thousand': '1684', 'thread': '1685', 'threat': '1686', 'three': '1687', 'through': '1688', 'thu': '1689', 'thursdai': '1690', 'ti': '1691', 'ticket': '1692', 'tim': '1693', 'time': '1694', 'tip': '1695', 'tire': '1696', 'titl': '1697', 'tm': '1698', 'to': '1699', 'todai': '1700', 'togeth': '1701', 'token': '1702', 'told': '1703', 'toll': '1704', 'tom': '1705', 'toner': '1706', 'toni': '1707', 'too': '1708', 'took': '1709', 'tool': '1710', 'top': '1711', 'topic': '1712', 'total': '1713', 'touch': '1714', 'toward': '1715', 'track': '1716', 'trade': '1717', 'tradit': '1718', 'traffic': '1719', 'train': '1720', 'transact': '1721', 'transfer': '1722', 'travel': '1723', 'treat': '1724', 'tree': '1725', 'tri': '1726', 'trial': '1727', 'trick': '1728', 'trip': '1729', 'troubl': '1730', 'true': '1731', 'truli': '1732', 'trust': '1733', 'truth': '1734', 'try': '1735', 'tue': '1736', 'tuesdai': '1737', 'turn': '1738', 'tv': '1739', 'two': '1740', 'type': '1741', 'uk': '1742', 'ultim': '1743', 'un': '1744', 'under': '1745', 'understand': '1746', 'unfortun': '1747', 'uniqu': '1748', 'unison': '1749', 'unit': '1750', 'univers': '1751', 'unix': '1752', 'unless': '1753', 'unlik': '1754', 'unlimit': '1755', 'unseen': '1756', 'unsolicit': '1757', 'unsubscrib': '1758', 'until': '1759', 'up': '1760', 'updat': '1761', 'upgrad': '1762', 'upon': '1763', 'urgent': '1764', 'url': '1765', 'us': '1766', 'usa': '1767', 'usag': '1768', 'usb': '1769', 'usd': '1770', 'usdollarnumb': '1771', 'useless': '1772', 'user': '1773', 'usr': '1774', 'usual': '1775', 'util': '1776', 'vacat': '1777', 'valid': '1778', 'valu': '1779', 'valuabl': '1780', 'var': '1781', 'variabl': '1782', 'varieti': '1783', 'variou': '1784', 've': '1785', 'vendor': '1786', 'ventur': '1787', 'veri': '1788', 'verifi': '1789', 'version': '1790', 'via': '1791', 'video': '1792', 'view': '1793', 'virtual': '1794', 'visa': '1795', 'visit': '1796', 'visual': '1797', 'vnumber': '1798', 'voic': '1799', 'vote': '1800', 'vs': '1801', 'vulner': '1802', 'wa': '1803', 'wai': '1804', 'wait': '1805', 'wake': '1806', 'walk': '1807', 'wall': '1808', 'want': '1809', 'war': '1810', 'warm': '1811', 'warn': '1812', 'warranti': '1813', 'washington': '1814', 'wasn': '1815', 'wast': '1816', 'watch': '1817', 'water': '1818', 'we': '1819', 'wealth': '1820', 'weapon': '1821', 'web': '1822', 'weblog': '1823', 'websit': '1824', 'wed': '1825', 'wednesdai': '1826', 'week': '1827', 'weekli': '1828', 'weight': '1829', 'welcom': '1830', 'well': '1831', 'went': '1832', 'were': '1833', 'west': '1834', 'what': '1835', 'whatev': '1836', 'when': '1837', 'where': '1838', 'whether': '1839', 'which': '1840', 'while': '1841', 'white': '1842', 'whitelist': '1843', 'who': '1844', 'whole': '1845', 'whose': '1846', 'why': '1847', 'wi': '1848', 'wide': '1849', 'width': '1850', 'wife': '1851', 'will': '1852', 'william': '1853', 'win': '1854', 'window': '1855', 'wing': '1856', 'winner': '1857', 'wireless': '1858', 'wish': '1859', 'with': '1860', 'within': '1861', 'without': '1862', 'wnumberp': '1863', 'woman': '1864', 'women': '1865', 'won': '1866', 'wonder': '1867', 'word': '1868', 'work': '1869', 'worker': '1870', 'world': '1871', 'worldwid': '1872', 'worri': '1873', 'worst': '1874', 'worth': '1875', 'would': '1876', 'wouldn': '1877', 'write': '1878', 'written': '1879', 'wrong': '1880', 'wrote': '1881', 'www': '1882', 'ximian': '1883', 'xml': '1884', 'xp': '1885', 'yahoo': '1886', 'ye': '1887', 'yeah': '1888', 'year': '1889', 'yesterdai': '1890', 'yet': '1891', 'york': '1892', 'you': '1893', 'young': '1894', 'your': '1895', 'yourself': '1896', 'zdnet': '1897', 'zero': '1898', 'zip': '1899'}\n"
     ]
    }
   ],
   "source": [
    "import numpy as np\n",
    "import pandas as pd\n",
    "import matplotlib.pyplot as plt\n",
    "import scipy.io\n",
    "from sklearn import svm\n",
    "import re\n",
    "from nltk.stem.porter import PorterStemmer\n",
    "\n",
    "with open(\"emailSample1.txt\", \"r\") as readfile:\n",
    "    email_contents_s1 = readfile.read()\n",
    "with open(\"vocab.txt\", \"r\") as readfile:\n",
    "    vocab_dict = {}\n",
    "    for line in readfile:\n",
    "        line = line.split()\n",
    "        vocab_dict[line[1]] = line[0]\n",
    "\n",
    "print(email_contents_s1)\n",
    "print(vocab_dict)"
   ]
  },
  {
   "cell_type": "code",
   "execution_count": 2,
   "metadata": {},
   "outputs": [
    {
     "name": "stdout",
     "output_type": "stream",
     "text": [
      "['86', '916', '794', '1077', '883', '370', '1699', '790', '1822', '1831', '883', '431', '1171', '794', '1002', '1893', '1364', '592', '1676', '238', '162', '89', '688', '945', '1663', '1120', '1062', '1699', '375', '1162', '479', '1893', '1510', '799', '1182', '1237', '810', '1895', '1440', '1547', '181', '1699', '1758', '1896', '688', '1676', '992', '961', '1477', '71', '530', '1699', '531']\n"
     ]
    }
   ],
   "source": [
    "def preprocessEmail(email_contents):\n",
    "    # make lowercase\n",
    "    email_contents = email_contents.lower()\n",
    "    \n",
    "    # strip HTML\n",
    "    email_contents = re.sub('<[^<>]+>', ' ', email_contents)\n",
    "    \n",
    "    # handle numbers\n",
    "    email_contents = re.sub(\"[0-9]+\", 'number', email_contents)\n",
    "    \n",
    "    # handle URLs\n",
    "    email_contents = re.sub(\"(http|https)://[^\\s]*\", \"httpaddr\", email_contents)\n",
    "    \n",
    "    # handle email addresses\n",
    "    email_contents = re.sub('[^\\s]+@[^\\s]+', 'emailaddr', email_contents)\n",
    "    \n",
    "    # handle $ sign\n",
    "    email_contents = re.sub(\"[$]+\", \"dollar\", email_contents)\n",
    "    \n",
    "    return email_contents\n",
    "\n",
    "def makeWordIndicies(email_contents):\n",
    "    '''\n",
    "    Tokenizes by whitespace and punctuation.\n",
    "    Stems word and checks if stem is in vocab_dict\n",
    "    '''\n",
    "    stemmer = PorterStemmer()\n",
    "    global vocab_dict\n",
    "    word_indices = []\n",
    "    \n",
    "    # tokenize and get rid of punctuation\n",
    "    tokens = re.split(\"\"\"[\\s@$/#.-:&*+=[\\]?!(){},'\">_<;%]\"\"\", email_contents)\n",
    "    for token in tokens:\n",
    "        # remove non alphanumberic characters\n",
    "        token = re.sub(\"[^a-zA-Z0-9]\", '', token)\n",
    "        stem = stemmer.stem(token)\n",
    "        if len(stem) < 1:\n",
    "            continue\n",
    "        if stem in vocab_dict:\n",
    "            word_indices.append(vocab_dict[stem])\n",
    "    return word_indices\n",
    "\n",
    "def processEmail(file_contents):\n",
    "    email_contents = preprocessEmail(file_contents)\n",
    "    return makeWordIndicies(email_contents)\n",
    "\n",
    "word_indices = processEmail(email_contents_s1)\n",
    "print(word_indices)"
   ]
  },
  {
   "cell_type": "code",
   "execution_count": 3,
   "metadata": {},
   "outputs": [
    {
     "name": "stdout",
     "output_type": "stream",
     "text": [
      "number of keys in vocab_dict:  1899\n",
      "feature vector:  [ 0.  0.  0. ...,  1.  0.  0.]\n",
      "number of non-zero entries:  45.0\n"
     ]
    }
   ],
   "source": [
    "# converting to feature vector\n",
    "\n",
    "dict_n = len(vocab_dict.keys())\n",
    "print(\"number of keys in vocab_dict: \", dict_n)\n",
    "\n",
    "def emailFeatures(word_indices):\n",
    "    global dict_n\n",
    "    global vocab_dict\n",
    "    \n",
    "    featureVec = np.zeros(dict_n)\n",
    "    for i in word_indices:\n",
    "        i = int(i)\n",
    "        featureVec[i] = 1\n",
    "    return featureVec\n",
    "\n",
    "featureVec = emailFeatures(word_indices)\n",
    "print(\"feature vector: \", featureVec)\n",
    "print(\"number of non-zero entries: \", sum(featureVec))"
   ]
  },
  {
   "cell_type": "code",
   "execution_count": 39,
   "metadata": {},
   "outputs": [
    {
     "name": "stdout",
     "output_type": "stream",
     "text": [
      "0.99825\n",
      "0.989\n"
     ]
    }
   ],
   "source": [
    "spamTrain = scipy.io.loadmat(\"spamTrain.mat\")\n",
    "spamTest = scipy.io.loadmat(\"spamTest.mat\")\n",
    "\n",
    "X_train = spamTrain[\"X\"]\n",
    "y_train = spamTrain[\"y\"].ravel()\n",
    "\n",
    "X_test = spamTest[\"Xtest\"]\n",
    "y_test = spamTest[\"ytest\"].ravel()\n",
    "\n",
    "# train linear SVM classifier\n",
    "\n",
    "C = 0.1\n",
    "clf = svm.SVC(C=C, kernel=\"linear\")\n",
    "clf.fit(X_train, y_train)\n",
    "\n",
    "def svmPredict(model, X):\n",
    "    # returns predictions\n",
    "    predictions = clf.predict(X)\n",
    "    return predictions.ravel()\n",
    "\n",
    "def getAccuracy(predictions, y):\n",
    "    logicalVec = predictions == y\n",
    "    logicalVec = logicalVec.astype(int)\n",
    "    return sum(logicalVec) / len(logicalVec)\n",
    "\n",
    "predictions_train = svmPredict(clf, X_train)\n",
    "print(getAccuracy(predictions_train, y_train))\n",
    "\n",
    "predictions_test = svmPredict(clf, X_test)\n",
    "print(getAccuracy(predictions_test, y_test))"
   ]
  },
  {
   "cell_type": "code",
   "execution_count": 40,
   "metadata": {},
   "outputs": [
    {
     "name": "stdout",
     "output_type": "stream",
     "text": [
      "[1190  297 1397 ..., 1764 1665 1560] \n",
      "\n",
      "Top 15 predictor words for spam:\n",
      "- otherwis\n",
      "- clearli\n",
      "- remot\n",
      "- gt\n",
      "- visa\n",
      "- base\n",
      "- doesn\n",
      "- wife\n",
      "- previous\n",
      "- player\n",
      "- mortgag\n",
      "- natur\n",
      "- ll\n",
      "- futur\n",
      "- hot\n"
     ]
    }
   ],
   "source": [
    "highestInd = np.argsort(-clf.coef_)[0]\n",
    "# argsort can't sort by desc, so negate clf.coef_ for to get sorted by desc\n",
    "\n",
    "print(highestInd,\"\\n\")\n",
    "\n",
    "# switch key, values for vocab_dict (key-values will be int: str)\n",
    "vocab_dict_switch = {y:x for x,y in vocab_dict.items()}\n",
    "\n",
    "print('Top 15 predictor words for spam:')\n",
    "for i in range(15):\n",
    "    index = highestInd[i]\n",
    "    word = vocab_dict_switch[str(index)]\n",
    "    print(\"- \" + word)"
   ]
  },
  {
   "cell_type": "code",
   "execution_count": 42,
   "metadata": {},
   "outputs": [
    {
     "name": "stdout",
     "output_type": "stream",
     "text": [
      "emailSample1.txt  is predicted to not be spam.\n",
      "spamSample1.txt  is predicted to not be spam.\n",
      "emailSample2.txt  is predicted to not be spam.\n",
      "spamSample2.txt  is predicted to be spam.\n"
     ]
    }
   ],
   "source": [
    "def detectIfSpam(email_content, clf):\n",
    "    wordIndices = processEmail(email_content)\n",
    "    featureVec = emailFeatures(wordIndices).reshape(1,-1) # single email, reshape to 2D array\n",
    "    prediction = svmPredict(clf, featureVec)    \n",
    "    return prediction\n",
    "\n",
    "def exampleEmailTest(clf):\n",
    "    emails = [\"emailSample1.txt\", \"spamSample1.txt\", \"emailSample2.txt\", \"spamSample2.txt\"]\n",
    "\n",
    "    for email in emails:\n",
    "        with open(email, \"r\") as readfile:\n",
    "            content = readfile.read()\n",
    "        result = detectIfSpam(content, clf)\n",
    "        if result == 1:\n",
    "            print(email, \" is predicted to be spam.\")\n",
    "        else:\n",
    "            print(email, \" is predicted to not be spam.\")\n",
    "    return\n",
    "\n",
    "exampleEmailTest(clf)"
   ]
  },
  {
   "cell_type": "code",
   "execution_count": 48,
   "metadata": {},
   "outputs": [
    {
     "data": {
      "image/png": "[encoded data removed]",
      "text/plain": [
       "<matplotlib.figure.Figure at 0x1a2b4c84e0>"
      ]
     },
     "metadata": {},
     "output_type": "display_data"
    }
   ],
   "source": [
    "# seems like spamSample1 is not predicted correctly. Let's see if we can adjust\n",
    "# C value to see if we get better performance. We will use a learning curve\n",
    "\n",
    "C_vec = [0.1,0.3,0.5,0.7,1]\n",
    "error_train_vec = []\n",
    "error_test_vec = []\n",
    "\n",
    "for C in C_vec:\n",
    "    clf = svm.SVC(C=C, kernel=\"linear\")\n",
    "    clf.fit(X_train, y_train)\n",
    "\n",
    "    predictions_train = svmPredict(clf, X_train)\n",
    "    accuracy_train = getAccuracy(predictions_train, y_train)\n",
    "    error_train = 1-accuracy_train\n",
    "    error_train_vec.append(error_train)\n",
    "\n",
    "    predictions_test = svmPredict(clf, X_test)\n",
    "    accuracy_test = getAccuracy(predictions_test, y_test)\n",
    "    error_test = 1-accuracy_test\n",
    "    error_test_vec.append(error_test)\n",
    "\n",
    "plt.plot(C_vec, error_train_vec, label=\"training error\")\n",
    "plt.plot(C_vec, error_test_vec, label=\"test error\")\n",
    "plt.xlabel(\"C\")\n",
    "plt.ylabel(\"error\")\n",
    "plt.legend()\n",
    "plt.show()"
   ]
  },
  {
   "cell_type": "code",
   "execution_count": 47,
   "metadata": {},
   "outputs": [
    {
     "name": "stdout",
     "output_type": "stream",
     "text": [
      "emailSample1.txt  is predicted to not be spam.\n",
      "spamSample1.txt  is predicted to be spam.\n",
      "emailSample2.txt  is predicted to not be spam.\n",
      "spamSample2.txt  is predicted to be spam.\n"
     ]
    }
   ],
   "source": [
    "C = 0.3\n",
    "clf = svm.SVC(C=C, kernel=\"linear\")\n",
    "clf.fit(X_train, y_train)\n",
    "exampleEmailTest(clf)"
   ]
  },
  {
   "cell_type": "code",
   "execution_count": 19,
   "metadata": {},
   "outputs": [
    {
     "name": "stdout",
     "output_type": "stream",
     "text": [
      "0.99425\n",
      "0.99\n"
     ]
    }
   ],
   "source": [
    "C = 0.03\n",
    "clf = svm.SVC(C=C, kernel=\"linear\")\n",
    "clf.fit(X_train, y_train)\n",
    "\n",
    "def svmPredict(model, X):\n",
    "    # returns predictions\n",
    "    predictions = clf.predict(X)\n",
    "    return predictions.ravel()\n",
    "\n",
    "def getAccuracy(predictions, y):\n",
    "    logicalVec = predictions == y\n",
    "    logicalVec = logicalVec.astype(int)\n",
    "    return sum(logicalVec) / len(logicalVec)\n",
    "\n",
    "predictions_train = svmPredict(clf, X_train)\n",
    "print(getAccuracy(predictions_train, y_train))\n",
    "\n",
    "predictions_test = svmPredict(clf, X_test)\n",
    "print(getAccuracy(predictions_test, y_test))"
   ]
  },
  {
   "cell_type": "code",
   "execution_count": 30,
   "metadata": {},
   "outputs": [
    {
     "name": "stdout",
     "output_type": "stream",
     "text": [
      "[1.0, 1.0]\n"
     ]
    }
   ],
   "source": [
    "def testC(C_vec, X_train, y_train, X_test, y_test):\n",
    "    error_train = []\n",
    "    clf = svm.SVC(C=0.1, kernel=\"linear\")\n",
    "    clf.fit(X_train, y_train)\n",
    "    pred = svmPredict(clf, X_train)\n",
    "    acc = getAccuracy(pred, y_train)\n",
    "    error_train.append(acc)\n",
    "    \n",
    "    clf = svm.SVC(C=100, kernel=\"linear\")\n",
    "    clf.fit(X_train, y_train)\n",
    "    pred = svmPredict(clf, X_train)\n",
    "    acc = getAccuracy(pred, y_train)\n",
    "    error_train.append(acc)\n",
    "    return error_train\n",
    "\n",
    "print(testC(C_vec, X_train, y_train, X_test, y_test))"
   ]
  },
  {
   "cell_type": "code",
   "execution_count": 31,
   "metadata": {},
   "outputs": [
    {
     "name": "stdout",
     "output_type": "stream",
     "text": [
      "[0.99824999999999997, 1.0]\n"
     ]
    }
   ],
   "source": [
    "error_train = []\n",
    "clf = svm.SVC(C=0.1, kernel=\"linear\")\n",
    "clf.fit(X_train, y_train)\n",
    "pred = svmPredict(clf, X_train)\n",
    "acc = getAccuracy(pred, y_train)\n",
    "error_train.append(acc)\n",
    "\n",
    "clf = svm.SVC(C=100, kernel=\"linear\")\n",
    "clf.fit(X_train, y_train)\n",
    "pred = svmPredict(clf, X_train)\n",
    "acc = getAccuracy(pred, y_train)\n",
    "error_train.append(acc)\n",
    "print(error_train)"
   ]
  },
  {
   "cell_type": "code",
   "execution_count": null,
   "metadata": {
    "collapsed": true
   },
   "outputs": [],
   "source": []
  }
 ],
 "metadata": {
  "kernelspec": {
   "display_name": "Python 3",
   "language": "python",
   "name": "python3"
  },
  "language_info": {
   "codemirror_mode": {
    "name": "ipython",
    "version": 3
   },
   "file_extension": ".py",
   "mimetype": "text/x-python",
   "name": "python",
   "nbconvert_exporter": "python",
   "pygments_lexer": "ipython3",
   "version": "3.6.3"
  }
 },
 "nbformat": 4,
 "nbformat_minor": 2
}
