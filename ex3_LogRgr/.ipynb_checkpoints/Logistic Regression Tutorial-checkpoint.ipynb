{
 "cells": [
  {
   "cell_type": "code",
   "execution_count": 1,
   "metadata": {
    "collapsed": true
   },
   "outputs": [],
   "source": [
    "import pandas as pd\n",
    "import matplotlib.pyplot as plt\n",
    "import numpy as np\n",
    "import math\n",
    "import pdb"
   ]
  },
  {
   "cell_type": "code",
   "execution_count": 2,
   "metadata": {
    "collapsed": false
   },
   "outputs": [],
   "source": [
    "df = pd.read_csv('ex2data1.txt', names=['Exam 1 score', 'Exam 2 score', 'Admitted?'])\n",
    "admitted = df[df['Admitted?'].isin([1])]\n",
    "notAdmitted = df[df['Admitted?'].isin([0])]\n",
    "\n",
    "X_data = df['Exam 1 score']\n",
    "y_data = df['Exam 2 score']\n",
    "admit = df['Admitted?']\n",
    "\n",
    "%qtconsole"
   ]
  },
  {
   "cell_type": "code",
   "execution_count": 3,
   "metadata": {
    "collapsed": false
   },
   "outputs": [
    {
     "data": {
      "image/png": "[encoded data removed]",
      "text/plain": [
       "<matplotlib.figure.Figure at 0x10f3e9160>"
      ]
     },
     "metadata": {},
     "output_type": "display_data"
    }
   ],
   "source": [
    "plt.scatter(admitted['Exam 1 score'], admitted['Exam 2 score'], marker='x', label=\"Admitted\")\n",
    "plt.scatter(notAdmitted['Exam 1 score'], notAdmitted['Exam 2 score'], marker='o', label=\"Not admitted\")\n",
    "plt.legend()\n",
    "plt.xlabel('Exam 1 score')\n",
    "plt.ylabel('Exam 2 score')\n",
    "plt.show()"
   ]
  },
  {
   "cell_type": "code",
   "execution_count": 4,
   "metadata": {
    "collapsed": false
   },
   "outputs": [
    {
     "name": "stdout",
     "output_type": "stream",
     "text": [
      "0.9998766054240137\n",
      "0.00012339457598623172\n",
      "0.5\n"
     ]
    }
   ],
   "source": [
    "def sigmoid(x):\n",
    "    return 1.0/(1+ math.exp(-x))\n",
    "\n",
    "print(sigmoid(9)) # larger x -> 1\n",
    "print(sigmoid(-9)) # smaller x -> 0\n",
    "print(sigmoid(0)) # x = 0 -> 0.5"
   ]
  },
  {
   "cell_type": "code",
   "execution_count": 13,
   "metadata": {
    "collapsed": true
   },
   "outputs": [],
   "source": [
    "X_matrix = df.as_matrix(df.columns[:-1])\n",
    "#X_matrix = np.insert(X_matrix, 0, 1, axis=1) # remember to insert column of 1's for X_0\n",
    "#X_matrix = np.matrix(X_matrix)\n",
    "y = df[df.columns[-1:]].as_matrix() # admitted or not"
   ]
  },
  {
   "cell_type": "code",
   "execution_count": 30,
   "metadata": {
    "collapsed": false
   },
   "outputs": [
    {
     "name": "stderr",
     "output_type": "stream",
     "text": [
      "/Users/eddiewang/anaconda/lib/python3.6/site-packages/ipykernel/__main__.py:13: RuntimeWarning: divide by zero encountered in log\n"
     ]
    },
    {
     "name": "stdout",
     "output_type": "stream",
     "text": [
      "theta: \n",
      "[[ 0.56079203]\n",
      " [ 0.10236272]]\n",
      "\n",
      " J_history:\n",
      "[[          nan]\n",
      " [          nan]\n",
      " [          nan]\n",
      " ..., \n",
      " [ 481.48524466]\n",
      " [ 788.11089767]\n",
      " [          nan]]\n"
     ]
    }
   ],
   "source": [
    "# now need to be able to do this for a matrix\n",
    "\n",
    "def sigmoidMatrix(matrix):\n",
    "    for x in np.nditer(matrix, op_flags=['readwrite']):\n",
    "        x[...]=sigmoid(x)\n",
    "    return matrix\n",
    "\n",
    "# compute cost\n",
    "\n",
    "def computeCost(X, y, theta):\n",
    "    m = len(y)\n",
    "    h = sigmoidMatrix(X*theta) # vectorization\n",
    "    cost = -y.T * np.log(h) - (1-y).T * np.log(1-h)\n",
    "    return cost\n",
    "\n",
    "# gradient descent, should be the same as multi and single LR \n",
    "# except for slight tweek\n",
    "\n",
    "numCols = df.shape[1] - 1 # no more 1's column\n",
    "theta = np.matrix(np.ones((numCols,1))) # initialize theta to be 0\n",
    "\n",
    "iterations = 1500\n",
    "alpha = 0.01\n",
    "\n",
    "def gradientDescent(X, y, theta, alpha, num_iters):\n",
    "    pdb.set_trace()\n",
    "    m = len(y)\n",
    "    J_history = np.zeros((num_iters,1)) \n",
    "    # keep track of the value of each error as we iterate\n",
    "    \n",
    "    for i in range(num_iters):  \n",
    "        \n",
    "        error = sigmoidMatrix(X*theta) - y \n",
    "        #tweeked here, notice we use sigmoidMatrix\n",
    "        \n",
    "        theta = theta - (alpha/m) * (X.T * error)\n",
    "        \n",
    "        J_history[[i]] = computeCost(X,y,theta)\n",
    "        # To see value of cost at each iteration\n",
    "    \n",
    "    return (theta, J_history)\n",
    "\n",
    "result = gradientDescent(X_matrix,y,theta,alpha,iterations)\n",
    "theta = result[0]\n",
    "J_history = result[1]\n",
    "\n",
    "print('theta: ')\n",
    "print(theta)\n",
    "print('\\n J_history:')\n",
    "print(J_history)"
   ]
  },
  {
   "cell_type": "code",
   "execution_count": null,
   "metadata": {
    "collapsed": true
   },
   "outputs": [],
   "source": []
  }
 ],
 "metadata": {
  "kernelspec": {
   "display_name": "Python 3",
   "language": "python",
   "name": "python3"
  },
  "language_info": {
   "codemirror_mode": {
    "name": "ipython",
    "version": 3
   },
   "file_extension": ".py",
   "mimetype": "text/x-python",
   "name": "python",
   "nbconvert_exporter": "python",
   "pygments_lexer": "ipython3",
   "version": "3.6.0"
  }
 },
 "nbformat": 4,
 "nbformat_minor": 2
}
