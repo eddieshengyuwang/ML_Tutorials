{
 "cells": [
  {
   "cell_type": "markdown",
   "metadata": {},
   "source": [
    "# Logistic Regression Tutorial Pt. 2\n",
    "<br>\n",
    "In the second half of the assignment, we will be working with Logistic Regression on another dataset which deals with microchip testing. We are given training data with two features, \"Microchip test 1\" and \"Microchip test 2\", and a label column \"Accepted\" deeming if the chip was accepted based on the two tests. Let's start off with visualizing our data."
   ]
  },
  {
   "cell_type": "code",
   "execution_count": 1,
   "metadata": {},
   "outputs": [
    {
     "name": "stdout",
     "output_type": "stream",
     "text": [
      "     Microchip Test 1  Microchip Test 2  Accepted\n",
      "0            0.051267          0.699560         1\n",
      "1           -0.092742          0.684940         1\n",
      "2           -0.213710          0.692250         1\n",
      "3           -0.375000          0.502190         1\n",
      "4           -0.513250          0.465640         1\n",
      "..                ...               ...       ...\n",
      "113         -0.720620          0.538740         0\n",
      "114         -0.593890          0.494880         0\n",
      "115         -0.484450          0.999270         0\n",
      "116         -0.006336          0.999270         0\n",
      "117          0.632650         -0.030612         0\n",
      "\n",
      "[118 rows x 3 columns]\n"
     ]
    },
    {
     "data": {
      "image/png": "[encoded data removed]",
      "text/plain": [
       "<matplotlib.figure.Figure at 0x10a94b5c0>"
      ]
     },
     "metadata": {},
     "output_type": "display_data"
    }
   ],
   "source": [
    "import pandas as pd\n",
    "import numpy as np\n",
    "import matplotlib.pyplot as plt\n",
    "import math\n",
    "\n",
    "pd.set_option('display.max_columns', None)  \n",
    "pd.options.display.max_rows = 10\n",
    "\n",
    "df = pd.read_csv('ex2data2.txt', names=[\"Microchip Test 1\", \"Microchip Test 2\", \"Accepted\"])\n",
    "print(df)\n",
    "\n",
    "accepted = df[df[\"Accepted\"] == 1]\n",
    "notAccepted = df[df[\"Accepted\"] == 0]\n",
    "\n",
    "acceptedTest1 = accepted[\"Microchip Test 1\"] # x axis\n",
    "acceptedTest2 = accepted[\"Microchip Test 2\"] # y axis\n",
    "\n",
    "notAcceptedTest1 = notAccepted[\"Microchip Test 1\"] # x axis\n",
    "notAcceptedTest2 = notAccepted[\"Microchip Test 2\"] # y axis\n",
    "\n",
    "plt.scatter(acceptedTest1, acceptedTest2, marker='x', label=\"Accepted\")\n",
    "plt.scatter(notAcceptedTest1, notAcceptedTest2, marker='o', label=\"Not accepted\")\n",
    "plt.legend()\n",
    "plt.xlabel(\"Microchip Test 1\")\n",
    "plt.ylabel(\"Microchip Test 2\")\n",
    "plt.show()"
   ]
  },
  {
   "cell_type": "markdown",
   "metadata": {},
   "source": [
    "Notice how this dataset's decision boundary cannot be simply represented by a line. We will need to map a more complex polynomial equation to accurately determine this dataset's decision boundary. Thus, we will map the features ($x_1, x_2$) to be polynomial terms up to the sixth-power so that we can come up with this more complex decison boundary:\n",
    "\n",
    "$$ \\begin{equation}\n",
    "     mapFeatures(x) = mapFeatures(x_1,x_2) =\\begin{bmatrix}\n",
    "         1 \\\\\n",
    "         x_1 \\\\\n",
    "         x_2 \\\\\n",
    "         x_1^2 \\\\\n",
    "         x_1x_2 \\\\\n",
    "         x_2^2 \\\\\n",
    "         ... \\\\\n",
    "         x_1x_2^5 \\\\\n",
    "         x_2^6\n",
    "        \\end{bmatrix}\n",
    "  \\end{equation} $$\n",
    "  \n",
    "This means that for every feature row in the DataFrame, we will transform that row so that it reflects the new polynomial terms described above. That is, we will compute $1, x_1, x_2, x_1^2, x_1x_2, ... , x_1x_2^5, x_2^6$ and that will be a row for our transformed X data. In total there should be still 118 rows but the number of columns increase to 28 since we are adding the new computed terms. We will leverage *sci-kit learn*'s tools to easily come up with our transformed X matrix."
   ]
  },
  {
   "cell_type": "code",
   "execution_count": 2,
   "metadata": {},
   "outputs": [
    {
     "name": "stdout",
     "output_type": "stream",
     "text": [
      "      0         1         2         3         4       ...                 23  \\\n",
      "0    1.0  0.051267  0.699560  0.002628  0.035864      ...       3.380660e-06   \n",
      "1    1.0 -0.092742  0.684940  0.008601 -0.063523      ...       3.470651e-05   \n",
      "2    1.0 -0.213710  0.692250  0.045672 -0.147941      ...       9.995978e-04   \n",
      "3    1.0 -0.375000  0.502190  0.140625 -0.188321      ...       4.987251e-03   \n",
      "4    1.0 -0.513250  0.465640  0.263426 -0.238990      ...       1.504584e-02   \n",
      "..   ...       ...       ...       ...       ...      ...                ...   \n",
      "113  1.0 -0.720620  0.538740  0.519293 -0.388227      ...       7.826790e-02   \n",
      "114  1.0 -0.593890  0.494880  0.352705 -0.293904      ...       3.046659e-02   \n",
      "115  1.0 -0.484450  0.999270  0.234692 -0.484096      ...       5.499985e-02   \n",
      "116  1.0 -0.006336  0.999270  0.000040 -0.006332      ...       1.609667e-09   \n",
      "117  1.0  0.632650 -0.030612  0.400246 -0.019367      ...       1.501196e-04   \n",
      "\n",
      "               24            25            26            27  \n",
      "0    4.613055e-05  6.294709e-04  8.589398e-03  1.172060e-01  \n",
      "1   -2.563226e-04  1.893054e-03 -1.398103e-02  1.032560e-01  \n",
      "2   -3.237900e-03  1.048821e-02 -3.397345e-02  1.100469e-01  \n",
      "3   -6.678793e-03  8.944062e-03 -1.197765e-02  1.604015e-02  \n",
      "4   -1.365016e-02  1.238395e-02 -1.123519e-02  1.019299e-02  \n",
      "..            ...           ...           ...           ...  \n",
      "113 -5.851357e-02  4.374511e-02 -3.270412e-02  2.444980e-02  \n",
      "114 -2.538737e-02  2.115493e-02 -1.762810e-02  1.468924e-02  \n",
      "115 -1.134476e-01  2.340073e-01 -4.826843e-01  9.956280e-01  \n",
      "116 -2.538495e-07  4.003286e-05 -6.313306e-03  9.956280e-01  \n",
      "117 -7.263830e-06  3.514745e-07 -1.700678e-08  8.229060e-10  \n",
      "\n",
      "[118 rows x 28 columns]\n"
     ]
    }
   ],
   "source": [
    "from sklearn.preprocessing import PolynomialFeatures\n",
    "\n",
    "poly = PolynomialFeatures(degree=6) \n",
    "\n",
    "X_data = df[df.columns[:-1]]\n",
    "y_data = df[df.columns[-1]]\n",
    "y_data = np.asmatrix(y_data).T\n",
    "\n",
    "pd.set_option('display.max_columns', 10)  \n",
    "transformedX_data = poly.fit_transform(X_data)\n",
    "\n",
    "print(pd.DataFrame(transformedX_data))"
   ]
  },
  {
   "cell_type": "markdown",
   "metadata": {},
   "source": [
    "We can check if our transformedX_data matrix makes sense. \n",
    "<br>\n",
    "The 1st column = 1, the 2nd column = $x_1$, the 3rd column = $x_2$, the 4th column = $x_1^2$, the 5th column = $x_1x_2$, ... , the 28th column = $x_2^6$. \n",
    "<br><br>\n",
    "If we take the first row for example, ($x_1 = 0.051267, x_2 = 0.699560$) we can quickly check that: <br><br>\n",
    "$$x_1x_2 = 0.051267 \\times 0.699560 = 0.03586~ ~\\text{(5th column (index 4))} \\\\  \n",
    "x_2^6 = 0.669560^6 = 1.172060e-01 ~ ~\\text{(28th column (index 27))}$$"
   ]
  },
  {
   "cell_type": "markdown",
   "metadata": {},
   "source": [
    "Now that we have our transformed matrix, we can now move forward with the logistic regression algorithm and fit our theta parameters that will minimize our objective cost function by once again using the gradient and advanced optimization techniques. However this time, the assignment asks for us to incorporate **regularization** into our cost function and gradient calculation. First, let's introduce the concept of **overfitting/underfitting**. \n",
    "\n",
    "![](https://raw.githubusercontent.com/alexeygrigorev/wiki-figures/master/ufrt/kddm/overfitting-logreg-ex.png)\n",
    "\n",
    "**Overfitting** occurs when the determined model is complex to the point that it fits the training data too well. So although the model fits the training data extrememly well, the model will likely not perform well for new test data since the model caters to the training data too well. **Underfitting** is the opposite, which happens when the model is too simple and cannot fit the data well. In machine learning, we strive to find the balance between overfitting and underfitting data, but in practice this is very hard to do.\n",
    "\n",
    "One way to reduce overfitting is to incorporate **regularization**. Say we want to make the following expression more linear: $$ \\theta_0 + \\theta_1x + \\theta_2x^2 + \\theta_3x^3 + \\theta_4x^4$$\n",
    "\n",
    "Thus we want to reduce the influence of the $\\theta_2x^2, \\theta_3x^3, \\theta_4x^4$ terms. We do this by modifying our cost function (for linear regression) like so:\n",
    "\n",
    "$$\n",
    "cost = \\frac{1}{2m} \\sum_{i = 1}^m (h_\\theta(x^{(i)}) - y^{(i)})^2 + 5000\\theta_2^2 + 5000\\theta_3^3 + 5000\\theta_4^4\n",
    "$$\n",
    "\n",
    "Since we want to find theta values that will minimize the cost function, $\\theta_2, \\theta_3, \\theta_4$ are going to be very small values since they have been heavily \"inflated\" by a factor of 5000. Thus we have regularized the equation by reducing the complexity of the expression (by reducing the influence of $\\theta_2$) and thus reduced overfitting!\n",
    "\n",
    "The regularized cost function for logistic regression is generalized using all the $\\theta$ terms **except $\\theta_0$** through the following equation:\n",
    "\n",
    "$$\n",
    "cost = \\frac{1}{m} \\sum_{i = 1}^m -y^{(i)}\\log{}h_\\theta(x^{(i)}) - (1-y^{(i)})(1-\\log{}h_\\theta(x^{(i)})) + \\frac{\\lambda}{2m}\\sum_{j = 1}^m \\theta_j^2\n",
    "$$\n",
    "\n",
    "Note that $\\lambda$ is called the **regularization parameter** and it determines how much to inflate our $\\theta$ parameters. Thus, higher $\\lambda$ values will reduce overfitting by a bigger measure (perhaps to the point that it will underfit) whereas low $\\lambda$ or $\\lambda = 0$ means no regularization which entails the possibility of overfitting. Okay time to implement the regularizedCost function for logistic regression!"
   ]
  },
  {
   "cell_type": "code",
   "execution_count": 3,
   "metadata": {
    "collapsed": true
   },
   "outputs": [],
   "source": [
    "def sigmoid(x): # same as before\n",
    "    return 1.0/(1+ math.exp(-x))\n",
    "\n",
    "def sigmoidMatrix(matrix): # same as before\n",
    "    for x in np.nditer(matrix, op_flags=['readwrite']):\n",
    "        x[...]=sigmoid(x)\n",
    "    return matrix\n",
    "\n",
    "def regularizedCost(theta,X,y,lamda):\n",
    "    theta_with_0_as_first = np.insert(theta[1:], 0, 0) \n",
    "    # important! don't want to incorporate theta_0 for the regularization term\n",
    "    # thus substitute theta_0 with 0 and use theta_with_0_as_first for our reg term\n",
    "\n",
    "    theta = np.matrix(theta)\n",
    "    m = len(y)\n",
    "    h = sigmoidMatrix(X*theta.T)\n",
    "\n",
    "    reg_term = lamda*np.sum(np.square(theta_with_0_as_first)) / (2*m)\n",
    "    print(reg_term)\n",
    "    \n",
    "    cost = (-y.T * np.log(h) - (1-y).T * np.log(1-h))/m + reg_term\n",
    "    return cost[0,0]"
   ]
  },
  {
   "cell_type": "markdown",
   "metadata": {},
   "source": [
    "To check our work so far, for $\\theta$ initialized to all zeros and $\\lambda = 1$, regularizedCost should return value around 0.693."
   ]
  },
  {
   "cell_type": "code",
   "execution_count": 4,
   "metadata": {},
   "outputs": [
    {
     "name": "stdout",
     "output_type": "stream",
     "text": [
      "0.0\n",
      "0.69314718056\n"
     ]
    }
   ],
   "source": [
    "theta = np.zeros(transformedX_data.shape[1])\n",
    "lamda = 1\n",
    "\n",
    "print(regularizedCost(theta,transformedX_data, y_data, lamda))"
   ]
  },
  {
   "cell_type": "markdown",
   "metadata": {},
   "source": [
    "Great! Again, we are going to be using advanced optimization methods to compute our theta values that gives us the minimum cost. Notice below for the `regularizedGradient(...)` method that we simply just summed the regularization parameter when calculating the gradient. "
   ]
  },
  {
   "cell_type": "code",
   "execution_count": 5,
   "metadata": {},
   "outputs": [
    {
     "name": "stdout",
     "output_type": "stream",
     "text": [
      "First 6 GRADIENT values: \n",
      "with theta = 0, lambda = 1:\n",
      " [[  8.47457627e-03]\n",
      " [  1.87880932e-02]\n",
      " [  7.77711864e-05]\n",
      " [  5.03446395e-02]\n",
      " [  1.15013308e-02]\n",
      " [  3.76648474e-02]] \n",
      "\n",
      "with theta = 1, lambda = 10:\n",
      " [[ 0.34604507]\n",
      " [ 0.16135192]\n",
      " [ 0.19479576]\n",
      " [ 0.22686278]\n",
      " [ 0.09218568]\n",
      " [ 0.24438558]]\n"
     ]
    }
   ],
   "source": [
    "def regularizedGradient(theta,X,y,lamda): # vectorized implementation\n",
    "    theta_with_0_as_first = np.insert(theta[1:],0,0)\n",
    "    \n",
    "    theta = np.matrix(theta)\n",
    "    theta_with_0_as_first = np.matrix(theta_with_0_as_first)\n",
    "    m = len(y)\n",
    "    error = sigmoidMatrix(X*theta.T) - y\n",
    "    \n",
    "    regTerm = (lamda/m) * theta_with_0_as_first.T\n",
    "    gradient = (X.T * error) / m + regTerm # added regTerm\n",
    "    \n",
    "    return gradient\n",
    "\n",
    "print(\"First 6 GRADIENT values: \")\n",
    "print(\"with theta = 0, lambda = 1:\\n\", regularizedGradient(theta,transformedX_data, y_data, lamda)[:6], \"\\n\") \n",
    "\n",
    "lamda = 10\n",
    "theta = np.ones(transformedX_data.shape[1])\n",
    "print(\"with theta = 1, lambda = 10:\\n\", regularizedGradient(theta,transformedX_data, y_data, lamda)[:6])\n",
    "# theta = 1, lambda = 10"
   ]
  },
  {
   "cell_type": "markdown",
   "metadata": {},
   "source": [
    "Seems like all the values line up as indicated in the assignment. Using scipy's optimization methods, we can see the minimum computed cost and the fitted theta values below."
   ]
  },
  {
   "cell_type": "code",
   "execution_count": 6,
   "metadata": {},
   "outputs": [
    {
     "name": "stdout",
     "output_type": "stream",
     "text": [
      "Minimum cost is: 0.648215701539\n",
      "\n",
      "First 6 fitted THETA parameters:\n",
      " [[ 0.32617755]\n",
      " [-0.0081514 ]\n",
      " [ 0.16579867]\n",
      " [-0.44669159]\n",
      " [-0.11178596]\n",
      " [-0.2789296 ]]\n"
     ]
    }
   ],
   "source": [
    "# note that lamda = 10, theta = ones\n",
    "\n",
    "from scipy.optimize import fmin_tnc\n",
    "minimum = fmin_tnc(func=regularizedCost, x0=theta, fprime=regularizedGradient, args=(transformedX_data, y_data, lamda))\n",
    "cost = regularizedCost(minimum[0],transformedX_data,y_data,lamda)\n",
    "new_theta = np.matrix(minimum[0])\n",
    "\n",
    "print (\"Minimum cost is: \" + str(cost) + \"\\n\")\n",
    "print (\"First 6 fitted THETA parameters:\\n\", new_theta.T[:6])"
   ]
  },
  {
   "cell_type": "markdown",
   "metadata": {},
   "source": [
    "Finally, we are going to visualize all the hard work we've done so far! Visualization is tricky because the decision boundary is non-linear and our polynomial is pretty sophisticated. The way to do this is to show only one level on a contour plot."
   ]
  },
  {
   "cell_type": "code",
   "execution_count": 14,
   "metadata": {},
   "outputs": [
    {
     "data": {
      "image/png": "[encoded data removed]",
      "text/plain": [
       "<matplotlib.figure.Figure at 0x1a11ec3198>"
      ]
     },
     "metadata": {},
     "output_type": "display_data"
    }
   ],
   "source": [
    "u = np.linspace(-1, 1, 50)\n",
    "v = np.linspace(-1, 1, 50)\n",
    "\n",
    "def mapZ(u,v,theta):\n",
    "    poly = PolynomialFeatures(degree=6)\n",
    "    z = np.zeros((len(u), len(v)))\n",
    "    \n",
    "    for i in range(len(u)):\n",
    "        for j in range(len(v)):\n",
    "            fitted = poly.fit_transform([[u[i],v[j]]])\n",
    "            fitWithTheta = fitted * theta.T\n",
    "            z[i,j] = fitWithTheta\n",
    "    return z\n",
    "\n",
    "z = mapZ(u,v,new_theta) # for lambda = 10\n",
    "\n",
    "plt.scatter(acceptedTest1, acceptedTest2, marker='x', label=\"Accepted\")\n",
    "plt.scatter(notAcceptedTest1, notAcceptedTest2, marker='o', label=\"Not accepted\")\n",
    "plt.legend()\n",
    "plt.xlabel(\"Microchip Test 1\")\n",
    "plt.ylabel(\"Microchip Test 2\")\n",
    "plt.contour(u,v,z,0)\n",
    "plt.show()"
   ]
  },
  {
   "cell_type": "markdown",
   "metadata": {},
   "source": [
    "Let's write one final function which will visualize the plot for different regularization parameters. For the following plots, we can really see the relationship between overfitting and regularization."
   ]
  },
  {
   "cell_type": "code",
   "execution_count": 15,
   "metadata": {},
   "outputs": [
    {
     "ename": "Exception",
     "evalue": "Data must be 1-dimensional",
     "output_type": "error",
     "traceback": [
      "\u001b[0;31m---------------------------------------------------------------------------\u001b[0m",
      "\u001b[0;31mException\u001b[0m                                 Traceback (most recent call last)",
      "\u001b[0;32m<ipython-input-15-de1e927876d3>\u001b[0m in \u001b[0;36m<module>\u001b[0;34m()\u001b[0m\n\u001b[1;32m     28\u001b[0m     \u001b[0;32mreturn\u001b[0m\u001b[0;34m\u001b[0m\u001b[0m\n\u001b[1;32m     29\u001b[0m \u001b[0;34m\u001b[0m\u001b[0m\n\u001b[0;32m---> 30\u001b[0;31m \u001b[0mfinalLogRegAndVisualize\u001b[0m\u001b[0;34m(\u001b[0m\u001b[0mX_data\u001b[0m\u001b[0;34m,\u001b[0m \u001b[0my_data\u001b[0m\u001b[0;34m,\u001b[0m \u001b[0;36m0\u001b[0m\u001b[0;34m)\u001b[0m \u001b[0;31m# overfit\u001b[0m\u001b[0;34m\u001b[0m\u001b[0m\n\u001b[0m\u001b[1;32m     31\u001b[0m \u001b[0mfinalLogRegAndVisualize\u001b[0m\u001b[0;34m(\u001b[0m\u001b[0mX_data\u001b[0m\u001b[0;34m,\u001b[0m \u001b[0my_data\u001b[0m\u001b[0;34m,\u001b[0m \u001b[0;36m1\u001b[0m\u001b[0;34m)\u001b[0m \u001b[0;31m# normal\u001b[0m\u001b[0;34m\u001b[0m\u001b[0m\n\u001b[1;32m     32\u001b[0m \u001b[0mfinalLogRegAndVisualize\u001b[0m\u001b[0;34m(\u001b[0m\u001b[0mX_data\u001b[0m\u001b[0;34m,\u001b[0m \u001b[0my_data\u001b[0m\u001b[0;34m,\u001b[0m \u001b[0;36m10\u001b[0m\u001b[0;34m)\u001b[0m \u001b[0;31m# slightly underfit? (you can decide)\u001b[0m\u001b[0;34m\u001b[0m\u001b[0m\n",
      "\u001b[0;32m<ipython-input-15-de1e927876d3>\u001b[0m in \u001b[0;36mfinalLogRegAndVisualize\u001b[0;34m(X, y, lamda)\u001b[0m\n\u001b[1;32m      6\u001b[0m     \u001b[0mtheta\u001b[0m \u001b[0;34m=\u001b[0m \u001b[0mnp\u001b[0m\u001b[0;34m.\u001b[0m\u001b[0mones\u001b[0m\u001b[0;34m(\u001b[0m\u001b[0mtransformedX_data\u001b[0m\u001b[0;34m.\u001b[0m\u001b[0mshape\u001b[0m\u001b[0;34m[\u001b[0m\u001b[0;36m1\u001b[0m\u001b[0;34m]\u001b[0m\u001b[0;34m)\u001b[0m \u001b[0;31m# doesn't matter if theta is initialized as 0s or 1s\u001b[0m\u001b[0;34m\u001b[0m\u001b[0m\n\u001b[1;32m      7\u001b[0m     minimum = fmin_tnc(func=regularizedCost, x0=theta, fprime=regularizedGradient\n\u001b[0;32m----> 8\u001b[0;31m                        , args=(transformedX_data, y, lamda))\n\u001b[0m\u001b[1;32m      9\u001b[0m     \u001b[0mfitted_theta\u001b[0m \u001b[0;34m=\u001b[0m \u001b[0mnp\u001b[0m\u001b[0;34m.\u001b[0m\u001b[0mmatrix\u001b[0m\u001b[0;34m(\u001b[0m\u001b[0mminimum\u001b[0m\u001b[0;34m[\u001b[0m\u001b[0;36m0\u001b[0m\u001b[0;34m]\u001b[0m\u001b[0;34m)\u001b[0m\u001b[0;34m\u001b[0m\u001b[0m\n\u001b[1;32m     10\u001b[0m \u001b[0;34m\u001b[0m\u001b[0m\n",
      "\u001b[0;32m~/anaconda3/lib/python3.6/site-packages/scipy/optimize/tnc.py\u001b[0m in \u001b[0;36mfmin_tnc\u001b[0;34m(func, x0, fprime, args, approx_grad, bounds, epsilon, scale, offset, messages, maxCGit, maxfun, eta, stepmx, accuracy, fmin, ftol, xtol, pgtol, rescale, disp, callback)\u001b[0m\n\u001b[1;32m    273\u001b[0m             'disp': False}\n\u001b[1;32m    274\u001b[0m \u001b[0;34m\u001b[0m\u001b[0m\n\u001b[0;32m--> 275\u001b[0;31m     \u001b[0mres\u001b[0m \u001b[0;34m=\u001b[0m \u001b[0m_minimize_tnc\u001b[0m\u001b[0;34m(\u001b[0m\u001b[0mfun\u001b[0m\u001b[0;34m,\u001b[0m \u001b[0mx0\u001b[0m\u001b[0;34m,\u001b[0m \u001b[0margs\u001b[0m\u001b[0;34m,\u001b[0m \u001b[0mjac\u001b[0m\u001b[0;34m,\u001b[0m \u001b[0mbounds\u001b[0m\u001b[0;34m,\u001b[0m \u001b[0mcallback\u001b[0m\u001b[0;34m=\u001b[0m\u001b[0mcallback\u001b[0m\u001b[0;34m,\u001b[0m \u001b[0;34m**\u001b[0m\u001b[0mopts\u001b[0m\u001b[0;34m)\u001b[0m\u001b[0;34m\u001b[0m\u001b[0m\n\u001b[0m\u001b[1;32m    276\u001b[0m \u001b[0;34m\u001b[0m\u001b[0m\n\u001b[1;32m    277\u001b[0m     \u001b[0;32mreturn\u001b[0m \u001b[0mres\u001b[0m\u001b[0;34m[\u001b[0m\u001b[0;34m'x'\u001b[0m\u001b[0;34m]\u001b[0m\u001b[0;34m,\u001b[0m \u001b[0mres\u001b[0m\u001b[0;34m[\u001b[0m\u001b[0;34m'nfev'\u001b[0m\u001b[0;34m]\u001b[0m\u001b[0;34m,\u001b[0m \u001b[0mres\u001b[0m\u001b[0;34m[\u001b[0m\u001b[0;34m'status'\u001b[0m\u001b[0;34m]\u001b[0m\u001b[0;34m\u001b[0m\u001b[0m\n",
      "\u001b[0;32m~/anaconda3/lib/python3.6/site-packages/scipy/optimize/tnc.py\u001b[0m in \u001b[0;36m_minimize_tnc\u001b[0;34m(fun, x0, args, jac, bounds, eps, scale, offset, mesg_num, maxCGit, maxiter, eta, stepmx, accuracy, minfev, ftol, xtol, gtol, rescale, disp, callback, **unknown_options)\u001b[0m\n\u001b[1;32m    407\u001b[0m                                         \u001b[0moffset\u001b[0m\u001b[0;34m,\u001b[0m \u001b[0mmessages\u001b[0m\u001b[0;34m,\u001b[0m \u001b[0mmaxCGit\u001b[0m\u001b[0;34m,\u001b[0m \u001b[0mmaxfun\u001b[0m\u001b[0;34m,\u001b[0m\u001b[0;34m\u001b[0m\u001b[0m\n\u001b[1;32m    408\u001b[0m                                         \u001b[0meta\u001b[0m\u001b[0;34m,\u001b[0m \u001b[0mstepmx\u001b[0m\u001b[0;34m,\u001b[0m \u001b[0maccuracy\u001b[0m\u001b[0;34m,\u001b[0m \u001b[0mfmin\u001b[0m\u001b[0;34m,\u001b[0m \u001b[0mftol\u001b[0m\u001b[0;34m,\u001b[0m\u001b[0;34m\u001b[0m\u001b[0m\n\u001b[0;32m--> 409\u001b[0;31m                                         xtol, pgtol, rescale, callback)\n\u001b[0m\u001b[1;32m    410\u001b[0m \u001b[0;34m\u001b[0m\u001b[0m\n\u001b[1;32m    411\u001b[0m     \u001b[0mfunv\u001b[0m\u001b[0;34m,\u001b[0m \u001b[0mjacv\u001b[0m \u001b[0;34m=\u001b[0m \u001b[0mfunc_and_grad\u001b[0m\u001b[0;34m(\u001b[0m\u001b[0mx\u001b[0m\u001b[0;34m)\u001b[0m\u001b[0;34m\u001b[0m\u001b[0m\n",
      "\u001b[0;32m~/anaconda3/lib/python3.6/site-packages/scipy/optimize/tnc.py\u001b[0m in \u001b[0;36mfunc_and_grad\u001b[0;34m(x)\u001b[0m\n\u001b[1;32m    369\u001b[0m     \u001b[0;32melse\u001b[0m\u001b[0;34m:\u001b[0m\u001b[0;34m\u001b[0m\u001b[0m\n\u001b[1;32m    370\u001b[0m         \u001b[0;32mdef\u001b[0m \u001b[0mfunc_and_grad\u001b[0m\u001b[0;34m(\u001b[0m\u001b[0mx\u001b[0m\u001b[0;34m)\u001b[0m\u001b[0;34m:\u001b[0m\u001b[0;34m\u001b[0m\u001b[0m\n\u001b[0;32m--> 371\u001b[0;31m             \u001b[0mf\u001b[0m \u001b[0;34m=\u001b[0m \u001b[0mfun\u001b[0m\u001b[0;34m(\u001b[0m\u001b[0mx\u001b[0m\u001b[0;34m,\u001b[0m \u001b[0;34m*\u001b[0m\u001b[0margs\u001b[0m\u001b[0;34m)\u001b[0m\u001b[0;34m\u001b[0m\u001b[0m\n\u001b[0m\u001b[1;32m    372\u001b[0m             \u001b[0mg\u001b[0m \u001b[0;34m=\u001b[0m \u001b[0mjac\u001b[0m\u001b[0;34m(\u001b[0m\u001b[0mx\u001b[0m\u001b[0;34m,\u001b[0m \u001b[0;34m*\u001b[0m\u001b[0margs\u001b[0m\u001b[0;34m)\u001b[0m\u001b[0;34m\u001b[0m\u001b[0m\n\u001b[1;32m    373\u001b[0m             \u001b[0;32mreturn\u001b[0m \u001b[0mf\u001b[0m\u001b[0;34m,\u001b[0m \u001b[0mg\u001b[0m\u001b[0;34m\u001b[0m\u001b[0m\n",
      "\u001b[0;32m<ipython-input-3-9367f0a34eb4>\u001b[0m in \u001b[0;36mregularizedCost\u001b[0;34m(theta, X, y, lamda)\u001b[0m\n\u001b[1;32m     18\u001b[0m     \u001b[0mreg_term\u001b[0m \u001b[0;34m=\u001b[0m \u001b[0mlamda\u001b[0m\u001b[0;34m*\u001b[0m\u001b[0mnp\u001b[0m\u001b[0;34m.\u001b[0m\u001b[0msum\u001b[0m\u001b[0;34m(\u001b[0m\u001b[0mnp\u001b[0m\u001b[0;34m.\u001b[0m\u001b[0msquare\u001b[0m\u001b[0;34m(\u001b[0m\u001b[0mtheta_with_0_as_first\u001b[0m\u001b[0;34m)\u001b[0m\u001b[0;34m)\u001b[0m \u001b[0;34m/\u001b[0m \u001b[0;34m(\u001b[0m\u001b[0;36m2\u001b[0m\u001b[0;34m*\u001b[0m\u001b[0mm\u001b[0m\u001b[0;34m)\u001b[0m\u001b[0;34m\u001b[0m\u001b[0m\n\u001b[1;32m     19\u001b[0m \u001b[0;34m\u001b[0m\u001b[0m\n\u001b[0;32m---> 20\u001b[0;31m     \u001b[0mcost\u001b[0m \u001b[0;34m=\u001b[0m \u001b[0;34m(\u001b[0m\u001b[0;34m-\u001b[0m\u001b[0my\u001b[0m\u001b[0;34m.\u001b[0m\u001b[0mT\u001b[0m \u001b[0;34m*\u001b[0m \u001b[0mnp\u001b[0m\u001b[0;34m.\u001b[0m\u001b[0mlog\u001b[0m\u001b[0;34m(\u001b[0m\u001b[0mh\u001b[0m\u001b[0;34m)\u001b[0m \u001b[0;34m-\u001b[0m \u001b[0;34m(\u001b[0m\u001b[0;36m1\u001b[0m\u001b[0;34m-\u001b[0m\u001b[0my\u001b[0m\u001b[0;34m)\u001b[0m\u001b[0;34m.\u001b[0m\u001b[0mT\u001b[0m \u001b[0;34m*\u001b[0m \u001b[0mnp\u001b[0m\u001b[0;34m.\u001b[0m\u001b[0mlog\u001b[0m\u001b[0;34m(\u001b[0m\u001b[0;36m1\u001b[0m\u001b[0;34m-\u001b[0m\u001b[0mh\u001b[0m\u001b[0;34m)\u001b[0m\u001b[0;34m)\u001b[0m\u001b[0;34m/\u001b[0m\u001b[0mm\u001b[0m \u001b[0;34m+\u001b[0m \u001b[0mreg_term\u001b[0m\u001b[0;34m\u001b[0m\u001b[0m\n\u001b[0m\u001b[1;32m     21\u001b[0m     \u001b[0;32mreturn\u001b[0m \u001b[0mcost\u001b[0m\u001b[0;34m[\u001b[0m\u001b[0;36m0\u001b[0m\u001b[0;34m,\u001b[0m\u001b[0;36m0\u001b[0m\u001b[0;34m]\u001b[0m\u001b[0;34m\u001b[0m\u001b[0m\n",
      "\u001b[0;32m~/anaconda3/lib/python3.6/site-packages/pandas/core/ops.py\u001b[0m in \u001b[0;36mwrapper\u001b[0;34m(left, right, name, na_op)\u001b[0m\n\u001b[1;32m    725\u001b[0m             \u001b[0mindex\u001b[0m\u001b[0;34m=\u001b[0m\u001b[0mleft\u001b[0m\u001b[0;34m.\u001b[0m\u001b[0mindex\u001b[0m\u001b[0;34m,\u001b[0m\u001b[0;34m\u001b[0m\u001b[0m\n\u001b[1;32m    726\u001b[0m             \u001b[0mname\u001b[0m\u001b[0;34m=\u001b[0m\u001b[0mname\u001b[0m\u001b[0;34m,\u001b[0m\u001b[0;34m\u001b[0m\u001b[0m\n\u001b[0;32m--> 727\u001b[0;31m             \u001b[0mdtype\u001b[0m\u001b[0;34m=\u001b[0m\u001b[0mdtype\u001b[0m\u001b[0;34m,\u001b[0m\u001b[0;34m\u001b[0m\u001b[0m\n\u001b[0m\u001b[1;32m    728\u001b[0m         )\n\u001b[1;32m    729\u001b[0m \u001b[0;34m\u001b[0m\u001b[0m\n",
      "\u001b[0;32m~/anaconda3/lib/python3.6/site-packages/pandas/core/ops.py\u001b[0m in \u001b[0;36m_construct_result\u001b[0;34m(left, result, index, name, dtype)\u001b[0m\n\u001b[1;32m    633\u001b[0m \u001b[0;34m\u001b[0m\u001b[0m\n\u001b[1;32m    634\u001b[0m \u001b[0;32mdef\u001b[0m \u001b[0m_construct_result\u001b[0m\u001b[0;34m(\u001b[0m\u001b[0mleft\u001b[0m\u001b[0;34m,\u001b[0m \u001b[0mresult\u001b[0m\u001b[0;34m,\u001b[0m \u001b[0mindex\u001b[0m\u001b[0;34m,\u001b[0m \u001b[0mname\u001b[0m\u001b[0;34m,\u001b[0m \u001b[0mdtype\u001b[0m\u001b[0;34m)\u001b[0m\u001b[0;34m:\u001b[0m\u001b[0;34m\u001b[0m\u001b[0m\n\u001b[0;32m--> 635\u001b[0;31m     \u001b[0;32mreturn\u001b[0m \u001b[0mleft\u001b[0m\u001b[0;34m.\u001b[0m\u001b[0m_constructor\u001b[0m\u001b[0;34m(\u001b[0m\u001b[0mresult\u001b[0m\u001b[0;34m,\u001b[0m \u001b[0mindex\u001b[0m\u001b[0;34m=\u001b[0m\u001b[0mindex\u001b[0m\u001b[0;34m,\u001b[0m \u001b[0mname\u001b[0m\u001b[0;34m=\u001b[0m\u001b[0mname\u001b[0m\u001b[0;34m,\u001b[0m \u001b[0mdtype\u001b[0m\u001b[0;34m=\u001b[0m\u001b[0mdtype\u001b[0m\u001b[0;34m)\u001b[0m\u001b[0;34m\u001b[0m\u001b[0m\n\u001b[0m\u001b[1;32m    636\u001b[0m \u001b[0;34m\u001b[0m\u001b[0m\n\u001b[1;32m    637\u001b[0m \u001b[0;34m\u001b[0m\u001b[0m\n",
      "\u001b[0;32m~/anaconda3/lib/python3.6/site-packages/pandas/core/series.py\u001b[0m in \u001b[0;36m__init__\u001b[0;34m(self, data, index, dtype, name, copy, fastpath)\u001b[0m\n\u001b[1;32m    246\u001b[0m             \u001b[0;32melse\u001b[0m\u001b[0;34m:\u001b[0m\u001b[0;34m\u001b[0m\u001b[0m\n\u001b[1;32m    247\u001b[0m                 data = _sanitize_array(data, index, dtype, copy,\n\u001b[0;32m--> 248\u001b[0;31m                                        raise_cast_failure=True)\n\u001b[0m\u001b[1;32m    249\u001b[0m \u001b[0;34m\u001b[0m\u001b[0m\n\u001b[1;32m    250\u001b[0m                 \u001b[0mdata\u001b[0m \u001b[0;34m=\u001b[0m \u001b[0mSingleBlockManager\u001b[0m\u001b[0;34m(\u001b[0m\u001b[0mdata\u001b[0m\u001b[0;34m,\u001b[0m \u001b[0mindex\u001b[0m\u001b[0;34m,\u001b[0m \u001b[0mfastpath\u001b[0m\u001b[0;34m=\u001b[0m\u001b[0;32mTrue\u001b[0m\u001b[0;34m)\u001b[0m\u001b[0;34m\u001b[0m\u001b[0m\n",
      "\u001b[0;32m~/anaconda3/lib/python3.6/site-packages/pandas/core/series.py\u001b[0m in \u001b[0;36m_sanitize_array\u001b[0;34m(data, index, dtype, copy, raise_cast_failure)\u001b[0m\n\u001b[1;32m   3025\u001b[0m     \u001b[0;32melif\u001b[0m \u001b[0msubarr\u001b[0m\u001b[0;34m.\u001b[0m\u001b[0mndim\u001b[0m \u001b[0;34m>\u001b[0m \u001b[0;36m1\u001b[0m\u001b[0;34m:\u001b[0m\u001b[0;34m\u001b[0m\u001b[0m\n\u001b[1;32m   3026\u001b[0m         \u001b[0;32mif\u001b[0m \u001b[0misinstance\u001b[0m\u001b[0;34m(\u001b[0m\u001b[0mdata\u001b[0m\u001b[0;34m,\u001b[0m \u001b[0mnp\u001b[0m\u001b[0;34m.\u001b[0m\u001b[0mndarray\u001b[0m\u001b[0;34m)\u001b[0m\u001b[0;34m:\u001b[0m\u001b[0;34m\u001b[0m\u001b[0m\n\u001b[0;32m-> 3027\u001b[0;31m             \u001b[0;32mraise\u001b[0m \u001b[0mException\u001b[0m\u001b[0;34m(\u001b[0m\u001b[0;34m'Data must be 1-dimensional'\u001b[0m\u001b[0;34m)\u001b[0m\u001b[0;34m\u001b[0m\u001b[0m\n\u001b[0m\u001b[1;32m   3028\u001b[0m         \u001b[0;32melse\u001b[0m\u001b[0;34m:\u001b[0m\u001b[0;34m\u001b[0m\u001b[0m\n\u001b[1;32m   3029\u001b[0m             \u001b[0msubarr\u001b[0m \u001b[0;34m=\u001b[0m \u001b[0m_asarray_tuplesafe\u001b[0m\u001b[0;34m(\u001b[0m\u001b[0mdata\u001b[0m\u001b[0;34m,\u001b[0m \u001b[0mdtype\u001b[0m\u001b[0;34m=\u001b[0m\u001b[0mdtype\u001b[0m\u001b[0;34m)\u001b[0m\u001b[0;34m\u001b[0m\u001b[0m\n",
      "\u001b[0;31mException\u001b[0m: Data must be 1-dimensional"
     ]
    }
   ],
   "source": [
    "def finalLogRegAndVisualize(X,y,lamda):\n",
    "    \n",
    "    poly = PolynomialFeatures(degree=6)\n",
    "    transformedX_data = poly.fit_transform(X) # mapping features to polynomial degree 6\n",
    "    \n",
    "    theta = np.ones(transformedX_data.shape[1]) # doesn't matter if theta is initialized as 0s or 1s\n",
    "    minimum = fmin_tnc(func=regularizedCost, x0=theta, fprime=regularizedGradient\n",
    "                       , args=(transformedX_data, y, lamda))\n",
    "    fitted_theta = np.matrix(minimum[0])\n",
    "    \n",
    "    #print(regularizedCost(minimum[0],transformedX_data,y,lamda))\n",
    "    \n",
    "    # visualization\n",
    "    u = np.linspace(-1, 1.5, 50)\n",
    "    v = np.linspace(-1, 1.5, 50)\n",
    "    \n",
    "    z = mapZ(u,v,fitted_theta)\n",
    "    \n",
    "    plt.scatter(acceptedTest1, acceptedTest2, marker='x', label=\"Accepted\")\n",
    "    plt.scatter(notAcceptedTest1, notAcceptedTest2, marker='o', label=\"Not accepted\")\n",
    "    plt.legend()\n",
    "    plt.xlabel(\"Microchip Test 1\")\n",
    "    plt.ylabel(\"Microchip Test 2\")\n",
    "    plt.contour(u,v,z,0)\n",
    "    plt.title(\"lambda = \" + str(lamda))\n",
    "    plt.show()\n",
    "    \n",
    "    return \n",
    "\n",
    "finalLogRegAndVisualize(X_data, y_data, 0) # overfit \n",
    "finalLogRegAndVisualize(X_data, y_data, 1) # normal\n",
    "finalLogRegAndVisualize(X_data, y_data, 10) # slightly underfit? (you can decide)\n",
    "finalLogRegAndVisualize(X_data, y_data, 100) # underfit\n"
   ]
  },
  {
   "cell_type": "code",
   "execution_count": 9,
   "metadata": {},
   "outputs": [
    {
     "data": {
      "text/html": [
       "<div>\n",
       "<style>\n",
       "    .dataframe thead tr:only-child th {\n",
       "        text-align: right;\n",
       "    }\n",
       "\n",
       "    .dataframe thead th {\n",
       "        text-align: left;\n",
       "    }\n",
       "\n",
       "    .dataframe tbody tr th {\n",
       "        vertical-align: top;\n",
       "    }\n",
       "</style>\n",
       "<table border=\"1\" class=\"dataframe\">\n",
       "  <thead>\n",
       "    <tr style=\"text-align: right;\">\n",
       "      <th></th>\n",
       "      <th>Microchip Test 1</th>\n",
       "      <th>Microchip Test 2</th>\n",
       "    </tr>\n",
       "  </thead>\n",
       "  <tbody>\n",
       "    <tr>\n",
       "      <th>0</th>\n",
       "      <td>0.051267</td>\n",
       "      <td>0.699560</td>\n",
       "    </tr>\n",
       "    <tr>\n",
       "      <th>1</th>\n",
       "      <td>-0.092742</td>\n",
       "      <td>0.684940</td>\n",
       "    </tr>\n",
       "    <tr>\n",
       "      <th>2</th>\n",
       "      <td>-0.213710</td>\n",
       "      <td>0.692250</td>\n",
       "    </tr>\n",
       "    <tr>\n",
       "      <th>3</th>\n",
       "      <td>-0.375000</td>\n",
       "      <td>0.502190</td>\n",
       "    </tr>\n",
       "    <tr>\n",
       "      <th>4</th>\n",
       "      <td>-0.513250</td>\n",
       "      <td>0.465640</td>\n",
       "    </tr>\n",
       "    <tr>\n",
       "      <th>...</th>\n",
       "      <td>...</td>\n",
       "      <td>...</td>\n",
       "    </tr>\n",
       "    <tr>\n",
       "      <th>113</th>\n",
       "      <td>-0.720620</td>\n",
       "      <td>0.538740</td>\n",
       "    </tr>\n",
       "    <tr>\n",
       "      <th>114</th>\n",
       "      <td>-0.593890</td>\n",
       "      <td>0.494880</td>\n",
       "    </tr>\n",
       "    <tr>\n",
       "      <th>115</th>\n",
       "      <td>-0.484450</td>\n",
       "      <td>0.999270</td>\n",
       "    </tr>\n",
       "    <tr>\n",
       "      <th>116</th>\n",
       "      <td>-0.006336</td>\n",
       "      <td>0.999270</td>\n",
       "    </tr>\n",
       "    <tr>\n",
       "      <th>117</th>\n",
       "      <td>0.632650</td>\n",
       "      <td>-0.030612</td>\n",
       "    </tr>\n",
       "  </tbody>\n",
       "</table>\n",
       "<p>118 rows × 2 columns</p>\n",
       "</div>"
      ],
      "text/plain": [
       "     Microchip Test 1  Microchip Test 2\n",
       "0            0.051267          0.699560\n",
       "1           -0.092742          0.684940\n",
       "2           -0.213710          0.692250\n",
       "3           -0.375000          0.502190\n",
       "4           -0.513250          0.465640\n",
       "..                ...               ...\n",
       "113         -0.720620          0.538740\n",
       "114         -0.593890          0.494880\n",
       "115         -0.484450          0.999270\n",
       "116         -0.006336          0.999270\n",
       "117          0.632650         -0.030612\n",
       "\n",
       "[118 rows x 2 columns]"
      ]
     },
     "execution_count": 9,
     "metadata": {},
     "output_type": "execute_result"
    }
   ],
   "source": [
    "X_data"
   ]
  },
  {
   "cell_type": "code",
   "execution_count": 10,
   "metadata": {
    "collapsed": true
   },
   "outputs": [],
   "source": [
    "X_data = df[df.columns[:-1]]\n",
    "y_data = df[df.columns[-1]]\n"
   ]
  },
  {
   "cell_type": "code",
   "execution_count": 11,
   "metadata": {},
   "outputs": [
    {
     "data": {
      "text/html": [
       "<div>\n",
       "<style>\n",
       "    .dataframe thead tr:only-child th {\n",
       "        text-align: right;\n",
       "    }\n",
       "\n",
       "    .dataframe thead th {\n",
       "        text-align: left;\n",
       "    }\n",
       "\n",
       "    .dataframe tbody tr th {\n",
       "        vertical-align: top;\n",
       "    }\n",
       "</style>\n",
       "<table border=\"1\" class=\"dataframe\">\n",
       "  <thead>\n",
       "    <tr style=\"text-align: right;\">\n",
       "      <th></th>\n",
       "      <th>Microchip Test 1</th>\n",
       "      <th>Microchip Test 2</th>\n",
       "    </tr>\n",
       "  </thead>\n",
       "  <tbody>\n",
       "    <tr>\n",
       "      <th>0</th>\n",
       "      <td>0.051267</td>\n",
       "      <td>0.699560</td>\n",
       "    </tr>\n",
       "    <tr>\n",
       "      <th>1</th>\n",
       "      <td>-0.092742</td>\n",
       "      <td>0.684940</td>\n",
       "    </tr>\n",
       "    <tr>\n",
       "      <th>2</th>\n",
       "      <td>-0.213710</td>\n",
       "      <td>0.692250</td>\n",
       "    </tr>\n",
       "    <tr>\n",
       "      <th>3</th>\n",
       "      <td>-0.375000</td>\n",
       "      <td>0.502190</td>\n",
       "    </tr>\n",
       "    <tr>\n",
       "      <th>4</th>\n",
       "      <td>-0.513250</td>\n",
       "      <td>0.465640</td>\n",
       "    </tr>\n",
       "    <tr>\n",
       "      <th>...</th>\n",
       "      <td>...</td>\n",
       "      <td>...</td>\n",
       "    </tr>\n",
       "    <tr>\n",
       "      <th>113</th>\n",
       "      <td>-0.720620</td>\n",
       "      <td>0.538740</td>\n",
       "    </tr>\n",
       "    <tr>\n",
       "      <th>114</th>\n",
       "      <td>-0.593890</td>\n",
       "      <td>0.494880</td>\n",
       "    </tr>\n",
       "    <tr>\n",
       "      <th>115</th>\n",
       "      <td>-0.484450</td>\n",
       "      <td>0.999270</td>\n",
       "    </tr>\n",
       "    <tr>\n",
       "      <th>116</th>\n",
       "      <td>-0.006336</td>\n",
       "      <td>0.999270</td>\n",
       "    </tr>\n",
       "    <tr>\n",
       "      <th>117</th>\n",
       "      <td>0.632650</td>\n",
       "      <td>-0.030612</td>\n",
       "    </tr>\n",
       "  </tbody>\n",
       "</table>\n",
       "<p>118 rows × 2 columns</p>\n",
       "</div>"
      ],
      "text/plain": [
       "     Microchip Test 1  Microchip Test 2\n",
       "0            0.051267          0.699560\n",
       "1           -0.092742          0.684940\n",
       "2           -0.213710          0.692250\n",
       "3           -0.375000          0.502190\n",
       "4           -0.513250          0.465640\n",
       "..                ...               ...\n",
       "113         -0.720620          0.538740\n",
       "114         -0.593890          0.494880\n",
       "115         -0.484450          0.999270\n",
       "116         -0.006336          0.999270\n",
       "117          0.632650         -0.030612\n",
       "\n",
       "[118 rows x 2 columns]"
      ]
     },
     "execution_count": 11,
     "metadata": {},
     "output_type": "execute_result"
    }
   ],
   "source": [
    "X_data"
   ]
  },
  {
   "cell_type": "code",
   "execution_count": 12,
   "metadata": {},
   "outputs": [
    {
     "data": {
      "text/plain": [
       "0      1\n",
       "1      1\n",
       "2      1\n",
       "3      1\n",
       "4      1\n",
       "      ..\n",
       "113    0\n",
       "114    0\n",
       "115    0\n",
       "116    0\n",
       "117    0\n",
       "Name: Accepted, Length: 118, dtype: int64"
      ]
     },
     "execution_count": 12,
     "metadata": {},
     "output_type": "execute_result"
    }
   ],
   "source": [
    "y_data"
   ]
  },
  {
   "cell_type": "code",
   "execution_count": null,
   "metadata": {
    "collapsed": true
   },
   "outputs": [],
   "source": []
  }
 ],
 "metadata": {
  "kernelspec": {
   "display_name": "Python 3",
   "language": "python",
   "name": "python3"
  },
  "language_info": {
   "codemirror_mode": {
    "name": "ipython",
    "version": 3
   },
   "file_extension": ".py",
   "mimetype": "text/x-python",
   "name": "python",
   "nbconvert_exporter": "python",
   "pygments_lexer": "ipython3",
   "version": "3.6.3"
  }
 },
 "nbformat": 4,
 "nbformat_minor": 2
}
