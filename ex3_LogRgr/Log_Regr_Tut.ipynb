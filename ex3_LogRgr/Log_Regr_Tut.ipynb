{
 "cells": [
  {
   "cell_type": "markdown",
   "metadata": {},
   "source": [
    "# Logistic Regression Tutorial Pt. 1\n",
    "<br>\n",
    "So far we have been covering regression algorithms, ie predicting continuous variables such as a house being $1204.12. We will now move into classification algorithms where the problem lies in predicting categorical variables. The simplest categorical variables to work with are binary values - when there are only two types of results to predict on. In this tutorial, we are given training data on various students' exam 1 and exam 2 scores along with their result of being admitted into some school. This is a classification problem with binary results because we need to classify either a \"yes\" or a \"no\" to whether the student is admitted based on their test scores. Ok let's get started!"
   ]
  },
  {
   "cell_type": "code",
   "execution_count": 1,
   "metadata": {
    "collapsed": false
   },
   "outputs": [],
   "source": [
    "import pandas as pd\n",
    "import matplotlib.pyplot as plt\n",
    "import numpy as np\n",
    "import math\n",
    "import pdb\n",
    "\n",
    "pd.options.display.max_rows = 10 # printed df will be max 10 rows"
   ]
  },
  {
   "cell_type": "code",
   "execution_count": 2,
   "metadata": {
    "collapsed": false
   },
   "outputs": [
    {
     "name": "stdout",
     "output_type": "stream",
     "text": [
      "    Exam 1 score  Exam 2 score  Admitted?\n",
      "0      34.623660     78.024693          0\n",
      "1      30.286711     43.894998          0\n",
      "2      35.847409     72.902198          0\n",
      "3      60.182599     86.308552          1\n",
      "4      79.032736     75.344376          1\n",
      "..           ...           ...        ...\n",
      "95     83.489163     48.380286          1\n",
      "96     42.261701     87.103851          1\n",
      "97     99.315009     68.775409          1\n",
      "98     55.340018     64.931938          1\n",
      "99     74.775893     89.529813          1\n",
      "\n",
      "[100 rows x 3 columns]\n"
     ]
    }
   ],
   "source": [
    "df = pd.read_csv('ex2data1.txt', names=['Exam 1 score', 'Exam 2 score', 'Admitted?'])\n",
    "\n",
    "print(df)"
   ]
  },
  {
   "cell_type": "markdown",
   "metadata": {},
   "source": [
    "Observe that the last column has values of either 0 or 1. Note that 0 will represent False (student not admitted) and 1 will represent True (student is admitted). Let us now visualize our data."
   ]
  },
  {
   "cell_type": "code",
   "execution_count": 3,
   "metadata": {
    "collapsed": false
   },
   "outputs": [
    {
     "data": {
      "image/png": "[encoded data removed]",
      "text/plain": [
       "<matplotlib.figure.Figure at 0x10c1f2cf8>"
      ]
     },
     "metadata": {},
     "output_type": "display_data"
    }
   ],
   "source": [
    "admitted = df[df['Admitted?'] == 1] # splitting admitted and notAdmitted for legend\n",
    "notAdmitted = df[df['Admitted?'] == 0]\n",
    "\n",
    "plt.scatter(admitted['Exam 1 score'], admitted['Exam 2 score'], marker='x', label=\"Admitted\")\n",
    "plt.scatter(notAdmitted['Exam 1 score'], notAdmitted['Exam 2 score'], marker='o', label=\"Not admitted\")\n",
    "plt.legend()\n",
    "plt.xlabel('Exam 1 score')\n",
    "plt.ylabel('Exam 2 score')\n",
    "plt.show()"
   ]
  },
  {
   "cell_type": "markdown",
   "metadata": {},
   "source": [
    "Notice from the above graph you can kind of figure out a **decision boundary** where students are classified to be admitted or not admitted. Through logistic regression, we are going to mathematically figure out the decision boundary line. But first we need to introduce the **sigmoid function**, an important ingredient to the logistic regression recipe. The sigmoid function is represented by the following equation and graph:\n",
    "\n",
    "$$ g(z) = \\frac{1}{1+e^z} $$\n",
    "\n",
    "![](https://upload.wikimedia.org/wikipedia/commons/thumb/8/88/Logistic-curve.svg/320px-Logistic-curve.svg.png)\n",
    "\n",
    "Notice that the sigmoid function maps any real number to a real number between the open interval (0,1). Thus our new **hypothesis function** will be constrained between 0 and 1 also:\n",
    "\n",
    "$$ h_{\\theta}(x) = g(\\theta^Tx) = \\frac{1}{1+e^{-\\theta^Tx}} $$\n",
    "\n",
    "$h_{\\theta}(x)$ will now give us the **probability** that our output is 1. That is, if $h_{\\theta}(x) = 0.7$ then there is a 70% chance that y is = 1. (On another note, how can we determine the decision boundary from the sigmoid function?)\n",
    "<br>\n",
    "<br>\n",
    "For predicting purposes, if $h_{\\theta}(x) \\ge 0.5$, then we predict y to be 1 and if $h_{\\theta}(x) < 0.5$, then we predict y to be 0. Let's write the sigmoid function below."
   ]
  },
  {
   "cell_type": "code",
   "execution_count": 4,
   "metadata": {
    "collapsed": false
   },
   "outputs": [
    {
     "name": "stdout",
     "output_type": "stream",
     "text": [
      "0.9820137900379085\n",
      "0.00012339457598623172\n",
      "0.5\n"
     ]
    }
   ],
   "source": [
    "def sigmoid(x):\n",
    "    return 1.0/(1+ math.exp(-x))\n",
    "\n",
    "# check if sigmoid makes sense\n",
    "print(sigmoid(4)) # larger x -> 1\n",
    "print(sigmoid(-9)) # smaller x -> 0\n",
    "print(sigmoid(0)) # x = 0 -> 0.5\n",
    "\n",
    "# sigmoidMatrix applies the sigmoid fn to each element for a given matrix\n",
    "def sigmoidMatrix(matrix):\n",
    "    for x in np.nditer(matrix, op_flags=['readwrite']):\n",
    "        x[...]=sigmoid(x)\n",
    "    return matrix"
   ]
  },
  {
   "cell_type": "markdown",
   "metadata": {},
   "source": [
    "It is also important to change our cost funtion for logistic regression. Recall that our hypothesis function is $h_\\theta(x) = \\frac{1}{1+e^{-\\theta^Tx}}$, which is a \"strange\" looking function. If we kept the same cost function that we used for linear regression while using the sigmoid hypothesis function, the cost function graph will be non-convex, which means lots of local minima exist and gradient descent will not work to find the global minimum. Therefore, a new cost function is needed for logistic regression and is represented by the following equation:\n",
    "\n",
    "$$ Cost = \\frac{-1}{m} \\sum_{i = 1}^m [y^{(i)} \\log(h_\\theta(x^{(i)})) + (1 - y^{(i)})\\log(1-h_\\theta(x^{(i)}))] $$\n",
    "\n",
    "Writing the cost function in this form ensures that the cost function graph will be convex. We are going to vectorize our cost function implementation, which are represented by these equations:\n",
    "\n",
    "$$ h = g(X\\theta) $$\n",
    "$$ Cost = \\frac{1}{m} \\dot{} (-y^T\\log(h) - (1-y)^T\\log(1-h)) $$\n",
    "\n",
    "Let's implement and test our cost function!"
   ]
  },
  {
   "cell_type": "code",
   "execution_count": 5,
   "metadata": {
    "collapsed": false
   },
   "outputs": [
    {
     "name": "stdout",
     "output_type": "stream",
     "text": [
      "0.69314718056\n"
     ]
    }
   ],
   "source": [
    "def computeCost(theta, X, y):\n",
    "    theta = np.matrix(theta)\n",
    "    m = len(y)\n",
    "    h = sigmoidMatrix(X*theta.T) # vectorization\n",
    "    cost = (-y.T * np.log(h) - (1-y).T * np.log(1-h))/m\n",
    "    return cost[0,0]\n",
    "\n",
    "X_matrix = df.as_matrix(df.columns[:-1])\n",
    "X_matrix = np.insert(X_matrix, 0, 1, axis=1) \n",
    "# remember to insert column of 1's for X_0 intercept\n",
    "\n",
    "X_matrix = np.matrix(X_matrix)\n",
    "y = np.matrix(df[df.columns[-1:]]) # admitted or not\n",
    "theta = np.zeros(X_matrix.shape[1]) # initialize theta to be 0\n",
    "\n",
    "print(computeCost(theta,X_matrix,y))"
   ]
  },
  {
   "cell_type": "markdown",
   "metadata": {
    "collapsed": false
   },
   "source": [
    "Great! The cost is around 0.693 which is exactly what the assignment indicates. Now onto gradient descent algorithm for logistic regression. For each iteration of gradient descent, set:\n",
    "\n",
    "$$ \\theta_i = \\theta_i - \\alpha\\frac{1}{m}\\sum_{i=1}^{m}(h_\\theta(x^{(i)}) - y^{(i)})x^{(i)} $$\n",
    "where\n",
    "$$ h_\\theta(x^{(i)}) = \\frac{1}{1+e^{-\\theta^Tx^{(i)}}} $$\n",
    "\n",
    "However for this assignment we are asked to only compute the **gradient** (which is the $\\frac{1}{m}\\sum_{i=1}^{m}(h_\\theta(x^{(i)}) - y^{(i)})x^{(i)}$ term) and use the gradient for advanced optimization techniques. These advanced optimization techniques will also find the value of $\\theta$ that will minimize the cost function but at a faster rate than gradient descent. You also don't have to prescribe your own learning rate. The drawback of these advanced optimization techniques is that it is hard to understand, thus we will be using **scipy**'s library to do the optimization for us."
   ]
  },
  {
   "cell_type": "code",
   "execution_count": 6,
   "metadata": {
    "collapsed": false
   },
   "outputs": [
    {
     "name": "stdout",
     "output_type": "stream",
     "text": [
      "0.203497701589 \n",
      "\n",
      "Theta:\n",
      "-25.1613186033\n",
      "0.20147148619\n",
      "0.206231588103\n"
     ]
    }
   ],
   "source": [
    "def gradient(theta, X, y):\n",
    "    theta = np.matrix(theta) # important to have this line or else fmin_tnc won't work\n",
    "    m = len(y)\n",
    "    error = sigmoidMatrix(X*theta.T) - y # vectorized\n",
    "    gradient = (X.T * error) / m\n",
    "    return gradient\n",
    "\n",
    "from scipy.optimize import fmin_tnc \n",
    "\n",
    "minimum = fmin_tnc(func=computeCost, x0=theta, fprime=gradient, args=(X_matrix, y))\n",
    "cost = computeCost(minimum[0],X_matrix,y)\n",
    "new_theta = np.matrix(minimum[0])\n",
    "\n",
    "print (cost, \"\\n\")\n",
    "print (\"Theta:\")\n",
    "print (new_theta[0,0])\n",
    "print (new_theta[0,2])\n",
    "print (new_theta[0,1])"
   ]
  },
  {
   "cell_type": "markdown",
   "metadata": {},
   "source": [
    "Nice! Using the gradient and scipy's advanced optimization method, we reach a final minimum cost of 0.203 with \n",
    "<br>\n",
    "<br>\n",
    "$$ \\begin{equation}\n",
    "     \\theta =\\begin{bmatrix}\n",
    "         -25.1613186 \\\\\n",
    "         0.20623159 \\\\\n",
    "         0.20147149\n",
    "        \\end{bmatrix}\n",
    "  \\end{equation} $$\n",
    "  \n",
    "To test our theta value, let's make a prediction for a student with exam 1 score of 45 and exam 2 score of 85. As the assignment indicates, the probability that the student is admitted should be around 0.776."
   ]
  },
  {
   "cell_type": "code",
   "execution_count": 7,
   "metadata": {
    "collapsed": false
   },
   "outputs": [
    {
     "name": "stdout",
     "output_type": "stream",
     "text": [
      "Student will be admitted with probability: 0.7762906244930341\n"
     ]
    }
   ],
   "source": [
    "def predict(exam1, exam2, theta):\n",
    "    grade = np.matrix([1,exam1,exam2])\n",
    "    probability = sigmoid(grade*theta.T)\n",
    "    if probability >= 0.5:\n",
    "        print(\"Student will be admitted with probability: \" \n",
    "              + str(probability))\n",
    "    else:\n",
    "        print(\"Student will not be admitted with probability: \" \n",
    "              + str(probability))\n",
    "    return\n",
    "\n",
    "predict(45,85,new_theta)"
   ]
  },
  {
   "cell_type": "markdown",
   "metadata": {
    "collapsed": false
   },
   "source": [
    "So far so good! Finally let's plot the decision boundary so we can visualize our work so far. Recall that the decision boundary is the line which separates y = 0 and y = 1, that is when the hypothesis function, $h_\\theta(x) = 0.5$. Thus:\n",
    "\n",
    "\\begin{align*}\n",
    "h_\\theta(x) &= \\frac{1}{1+e^{-\\theta^Tx}} = 0.5 \\\\\n",
    " &\\Leftrightarrow e^{-\\theta^Tx} = 1 \\\\\n",
    " &\\Leftrightarrow -\\theta^Tx = 0 \\\\\n",
    " &\\Leftrightarrow \\theta_0 + \\theta_1x_1 + \\theta_2x_2 = 0 \\\\\n",
    "\\end{align*}\n",
    "\n"
   ]
  },
  {
   "cell_type": "markdown",
   "metadata": {},
   "source": [
    "Therefore, to solve for $x_2$ (which is our y axis):\n",
    "\n",
    "$$ x_2 = \\frac{-\\theta_1x_1 - \\theta_0}{\\theta_2} $$"
   ]
  },
  {
   "cell_type": "code",
   "execution_count": 8,
   "metadata": {
    "collapsed": false
   },
   "outputs": [
    {
     "data": {
      "image/png": "[encoded data removed]",
      "text/plain": [
       "<matplotlib.figure.Figure at 0x10f67c908>"
      ]
     },
     "metadata": {},
     "output_type": "display_data"
    }
   ],
   "source": [
    "#plotting\n",
    "\n",
    "x_range = np.linspace(df['Exam 1 score'].min(), df['Exam 1 score'].max(), 100) \n",
    "# generates array of 100 evenly spaced numbers (not necessarily integers)\n",
    "# from df['Exam 1 score'].min() to df['Exam 1 score'].max()\n",
    "\n",
    "y_line = (- new_theta[0,1]*x_range - new_theta[0,0]) / new_theta[0,2]\n",
    "# see derivation above\n",
    "\n",
    "plt.plot(x_range, y_line, label=\"Boundary\", color=\"red\")\n",
    "plt.scatter(admitted['Exam 1 score'], admitted['Exam 2 score'], marker='x', label=\"Admitted\")\n",
    "plt.scatter(notAdmitted['Exam 1 score'], notAdmitted['Exam 2 score'], marker='o', label=\"Not admitted\")\n",
    "plt.legend()\n",
    "plt.xlabel('Exam 1 score')\n",
    "plt.ylabel('Exam 2 score')\n",
    "plt.show()"
   ]
  },
  {
   "cell_type": "markdown",
   "metadata": {
    "collapsed": true
   },
   "source": [
    "The decision boundary looks good! Congrats for making past the first half of the assignment! For the next tutorial we will introduce the important concept of **regularization** and practice with more logistic regression for the second half of the assignment. See you there!"
   ]
  }
 ],
 "metadata": {
  "kernelspec": {
   "display_name": "Python 3",
   "language": "python",
   "name": "python3"
  },
  "language_info": {
   "codemirror_mode": {
    "name": "ipython",
    "version": 3
   },
   "file_extension": ".py",
   "mimetype": "text/x-python",
   "name": "python",
   "nbconvert_exporter": "python",
   "pygments_lexer": "ipython3",
   "version": "3.6.0"
  }
 },
 "nbformat": 4,
 "nbformat_minor": 2
}
