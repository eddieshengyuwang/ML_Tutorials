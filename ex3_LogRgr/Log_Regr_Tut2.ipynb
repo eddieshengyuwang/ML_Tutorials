{
 "cells": [
  {
   "cell_type": "markdown",
   "metadata": {},
   "source": [
    "# Logistic Regression Tutorial Pt. 2\n",
    "<br>\n",
    "In the second half of the assignment, we will be working with Logistic Regression on another dataset which deals with microchip testing. We are given training data with two features, \"Microchip test 1\" and \"Microchip test 2\", and a label column \"Accepted\" deeming if the chip was accepted based on the two tests. Let's start off with visualizing our data."
   ]
  },
  {
   "cell_type": "code",
   "execution_count": 9,
   "metadata": {
    "collapsed": false
   },
   "outputs": [
    {
     "name": "stdout",
     "output_type": "stream",
     "text": [
      "     Microchip Test 1  Microchip Test 2  Accepted\n",
      "0    0.051267          0.699560          1       \n",
      "1   -0.092742          0.684940          1       \n",
      "2   -0.213710          0.692250          1       \n",
      "3   -0.375000          0.502190          1       \n",
      "4   -0.513250          0.465640          1       \n",
      "..        ...               ...         ..       \n",
      "113 -0.720620          0.538740          0       \n",
      "114 -0.593890          0.494880          0       \n",
      "115 -0.484450          0.999270          0       \n",
      "116 -0.006336          0.999270          0       \n",
      "117  0.632650         -0.030612          0       \n",
      "\n",
      "[118 rows x 3 columns]\n"
     ]
    },
    {
     "data": {
      "image/png": "[encoded data removed]",
      "text/plain": [
       "<matplotlib.figure.Figure at 0x111bb0898>"
      ]
     },
     "metadata": {},
     "output_type": "display_data"
    }
   ],
   "source": [
    "import pandas as pd\n",
    "import numpy as np\n",
    "import matplotlib.pyplot as plt\n",
    "import math\n",
    "\n",
    "pd.set_option('display.max_columns', None)  \n",
    "pd.options.display.max_rows = 10\n",
    "\n",
    "df = pd.read_csv('ex2data2.txt', names=[\"Microchip Test 1\", \"Microchip Test 2\", \"Accepted\"])\n",
    "print(df)\n",
    "\n",
    "accepted = df[df[\"Accepted\"] == 1]\n",
    "notAccepted = df[df[\"Accepted\"] == 0]\n",
    "\n",
    "acceptedTest1 = accepted[\"Microchip Test 1\"] # x axis\n",
    "acceptedTest2 = accepted[\"Microchip Test 2\"] # y axis\n",
    "\n",
    "notAcceptedTest1 = notAccepted[\"Microchip Test 1\"] # x axis\n",
    "notAcceptedTest2 = notAccepted[\"Microchip Test 2\"] # y axis\n",
    "\n",
    "plt.scatter(acceptedTest1, acceptedTest2, marker='x', label=\"Accepted\")\n",
    "plt.scatter(notAcceptedTest1, notAcceptedTest2, marker='o', label=\"Not accepted\")\n",
    "plt.legend()\n",
    "plt.xlabel(\"Microchip Test 1\")\n",
    "plt.ylabel(\"Microchip Test 2\")\n",
    "plt.show()"
   ]
  },
  {
   "cell_type": "markdown",
   "metadata": {},
   "source": [
    "Notice how this dataset's decision boundary cannot be simply represented by a line. We will need to map a more complex polynomial equation to accurately determine this dataset's decision boundary. Thus, we will map the features ($x_1, x_2$) to be polynomial terms up to the sixth-power so that we can come up with this more complex decison boundary:\n",
    "\n",
    "$$ \\begin{equation}\n",
    "     mapFeatures(x) = mapFeatures(x_1,x_2) =\\begin{bmatrix}\n",
    "         1 \\\\\n",
    "         x_1 \\\\\n",
    "         x_2 \\\\\n",
    "         x_1^2 \\\\\n",
    "         x_1x_2 \\\\\n",
    "         x_2^2 \\\\\n",
    "         ... \\\\\n",
    "         x_1x_2^5 \\\\\n",
    "         x_2^6\n",
    "        \\end{bmatrix}\n",
    "  \\end{equation} $$\n",
    "  \n",
    "This means that for every feature row in the DataFrame, we will transform that row so that it reflects the new polynomial terms described above. That is, we will compute $1, x_1, x_2, x_1^2, x_1x_2, ... , x_1x_2^5, x_2^6$ and that will be a row for our transformed X data. In total there should be still 118 rows but the number of columns increase to 28 since we are adding the new computed terms. We will leverage *sci-kit learn*'s tools to easily come up with our transformed X matrix."
   ]
  },
  {
   "cell_type": "code",
   "execution_count": 27,
   "metadata": {
    "collapsed": false
   },
   "outputs": [
    {
     "name": "stdout",
     "output_type": "stream",
     "text": [
      "       0         1         2         3         4      ...                 23  \\\n",
      "0    1.0  0.051267  0.699560  0.002628  0.035864      ...       3.380660e-06   \n",
      "1    1.0 -0.092742  0.684940  0.008601 -0.063523      ...       3.470651e-05   \n",
      "2    1.0 -0.213710  0.692250  0.045672 -0.147941      ...       9.995978e-04   \n",
      "3    1.0 -0.375000  0.502190  0.140625 -0.188321      ...       4.987251e-03   \n",
      "4    1.0 -0.513250  0.465640  0.263426 -0.238990      ...       1.504584e-02   \n",
      "..   ...       ...       ...       ...       ...      ...                ...   \n",
      "113  1.0 -0.720620  0.538740  0.519293 -0.388227      ...       7.826790e-02   \n",
      "114  1.0 -0.593890  0.494880  0.352705 -0.293904      ...       3.046659e-02   \n",
      "115  1.0 -0.484450  0.999270  0.234692 -0.484096      ...       5.499985e-02   \n",
      "116  1.0 -0.006336  0.999270  0.000040 -0.006332      ...       1.609667e-09   \n",
      "117  1.0  0.632650 -0.030612  0.400246 -0.019367      ...       1.501196e-04   \n",
      "\n",
      "               24            25            26            27  \n",
      "0    4.613055e-05  6.294709e-04  8.589398e-03  1.172060e-01  \n",
      "1   -2.563226e-04  1.893054e-03 -1.398103e-02  1.032560e-01  \n",
      "2   -3.237900e-03  1.048821e-02 -3.397345e-02  1.100469e-01  \n",
      "3   -6.678793e-03  8.944062e-03 -1.197765e-02  1.604015e-02  \n",
      "4   -1.365016e-02  1.238395e-02 -1.123519e-02  1.019299e-02  \n",
      "..            ...           ...           ...           ...  \n",
      "113 -5.851357e-02  4.374511e-02 -3.270412e-02  2.444980e-02  \n",
      "114 -2.538737e-02  2.115493e-02 -1.762810e-02  1.468924e-02  \n",
      "115 -1.134476e-01  2.340073e-01 -4.826843e-01  9.956280e-01  \n",
      "116 -2.538495e-07  4.003286e-05 -6.313306e-03  9.956280e-01  \n",
      "117 -7.263830e-06  3.514745e-07 -1.700678e-08  8.229060e-10  \n",
      "\n",
      "[118 rows x 28 columns]\n"
     ]
    },
    {
     "data": {
      "text/plain": [
       "matrix([[1, 1, 1, 1, 1, 1, 1, 1, 1, 1, 1, 1, 1, 1, 1, 1, 1, 1, 1, 1, 1, 1,\n",
       "         1, 1, 1, 1, 1, 1, 1, 1, 1, 1, 1, 1, 1, 1, 1, 1, 1, 1, 1, 1, 1, 1,\n",
       "         1, 1, 1, 1, 1, 1, 1, 1, 1, 1, 1, 1, 1, 1, 0, 0, 0, 0, 0, 0, 0, 0,\n",
       "         0, 0, 0, 0, 0, 0, 0, 0, 0, 0, 0, 0, 0, 0, 0, 0, 0, 0, 0, 0, 0, 0,\n",
       "         0, 0, 0, 0, 0, 0, 0, 0, 0, 0, 0, 0, 0, 0, 0, 0, 0, 0, 0, 0, 0, 0,\n",
       "         0, 0, 0, 0, 0, 0, 0, 0]])"
      ]
     },
     "execution_count": 27,
     "metadata": {},
     "output_type": "execute_result"
    }
   ],
   "source": [
    "from sklearn.preprocessing import PolynomialFeatures\n",
    "\n",
    "poly = PolynomialFeatures(degree=6) \n",
    "\n",
    "X_data = df[df.columns[:-1]]\n",
    "y_data = df[df.columns[-1]]\n",
    "\n",
    "pd.set_option('display.max_columns', 10)  \n",
    "transformedX_data = poly.fit_transform(X_data)\n",
    "\n",
    "print(pd.DataFrame(transformedX_data))"
   ]
  },
  {
   "cell_type": "markdown",
   "metadata": {},
   "source": [
    "We can check if our transformedX_data matrix makes sense. \n",
    "<br>\n",
    "The 1st column = 1, the 2nd column = $x_1$, the 3rd column = $x_2$, the 4th column = $x_1^2$, the 5th column = $x_1x_2$, ... , the 28th column = $x_2^6$. \n",
    "<br><br>\n",
    "If we take the first row for example, ($x_1 = 0.051267, x_2 = 0.699560$) we can quickly check that: <br><br>\n",
    "$$x_1x_2 = 0.051267 \\times 0.699560 = 0.03586~ ~\\text{(5th column)} \\\\  \n",
    "x_2^6 = 0.669560^6 = 1.172060e-01 ~ ~\\text{(28th column)}$$"
   ]
  },
  {
   "cell_type": "markdown",
   "metadata": {},
   "source": [
    "Now that we have our transformed matrix, we can now move forward with the logistic regression algorithm and fit our theta parameters that will minimize our objective cost function by once again using the gradient and advanced optimization techniques. However this time, the assignment asks for us to incorporate **regularization** into our cost function and gradient calculation. First, let's introduce the concept of **overfitting/underfitting**. \n",
    "\n",
    "![](https://raw.githubusercontent.com/alexeygrigorev/wiki-figures/master/ufrt/kddm/overfitting-logreg-ex.png)\n",
    "\n",
    "**Overfitting** occurs when the determined model is complex to the point that it fits the training data too well. So although the model fits the training data extrememly well, the model will likely not perform well for new test data since the model caters to the training data too well. **Underfitting** is the opposite, which happens when the model is too simple and cannot fit the data well. In machine learning, we strive to find the balance between overfitting and underfitting data, but in practice this is very hard to do.\n",
    "\n",
    "One way to reduce overfitting is to incorporate **regularization**. Say we want to make the following expression more linear: $$ \\theta_0 + \\theta_1x + \\theta_2x^2 + \\theta_3x^3 + \\theta_4x^4$$\n",
    "\n",
    "Thus we want to reduce the influence of the $\\theta_2x^2, \\theta_3x^3, \\theta_4x^4$ terms. We do this by modifying our cost function (for linear regression) like so:\n",
    "\n",
    "$$\n",
    "cost = \\frac{1}{2m} \\sum_{i = 1}^m (h_\\theta(x^{(i)}) - y^{(i)})^2 + 5000\\theta_2^2 + 5000\\theta_3^3 + 5000\\theta_4^4\n",
    "$$\n",
    "\n",
    "Since we want to find theta values that will minimize the cost function, $\\theta_2, \\theta_3, \\theta_4$ are going to be very small values since they have been heavily \"inflated\" by a factor of 5000. Thus we have regularized the equation by reducing the complexity of the expression (by reducing the influence of $\\theta_2$) and thus reduced overfitting!\n",
    "\n",
    "The regularized cost function for logistic regression is generalized using all the $\\theta$ terms **except $\\theta_0$** through the following equation:\n",
    "\n",
    "$$\n",
    "cost = \\frac{1}{m} \\sum_{i = 1}^m -y^{(i)}\\log{}h_\\theta(x^{(i)}) - (1-y^{(i)})(1-\\log{}h_\\theta(x^{(i)})) + \\frac{\\lambda}{2m}\\sum_{j = 1}^m \\theta_j^2\n",
    "$$\n",
    "\n",
    "Note that $\\lambda$ is called the **regularization parameter** and it determines how much to inflate our $\\theta$ parameters. Thus, higher $\\lambda$ values will reduce overfitting by a bigger measure (perhaps to the point that it will underfit) whereas low $\\lambda$ or $\\lambda = 0$ means no regularization which entails the possibility of overfitting. Okay time to implement the regularizedCost function for logistic regression!"
   ]
  },
  {
   "cell_type": "code",
   "execution_count": 28,
   "metadata": {
    "collapsed": false
   },
   "outputs": [],
   "source": [
    "def sigmoid(x): # same as before\n",
    "    return 1.0/(1+ math.exp(-x))\n",
    "\n",
    "def sigmoidMatrix(matrix): # same as before\n",
    "    for x in np.nditer(matrix, op_flags=['readwrite']):\n",
    "        x[...]=sigmoid(x)\n",
    "    return matrix\n",
    "\n",
    "def regularizedCost(theta,X,y,lamda):\n",
    "    theta_with_0_as_first = np.insert(theta[1:], 0, 0) \n",
    "    # important! don't want to incorporate theta_0 for the regularization term\n",
    "    # thus substitute theta_0 with 0 and use this variable for our reg term\n",
    "    \n",
    "    theta = np.matrix(theta)\n",
    "    m = len(y)\n",
    "    h = sigmoidMatrix(X*theta.T)\n",
    "    \n",
    "    reg_term = lamda*np.sum(theta_with_0_as_first) / (2*m)\n",
    "    \n",
    "    cost = (-y.T * np.log(h) - (1-y).T * np.log(1-h))/m + reg_term\n",
    "    return cost[0,0]"
   ]
  },
  {
   "cell_type": "markdown",
   "metadata": {},
   "source": []
  },
  {
   "cell_type": "code",
   "execution_count": 29,
   "metadata": {
    "collapsed": false
   },
   "outputs": [
    {
     "name": "stdout",
     "output_type": "stream",
     "text": [
      "0.69314718056\n"
     ]
    }
   ],
   "source": [
    "theta = np.zeros(transformedX_data.shape[1])\n",
    "lamda = 1\n",
    "y_data = np.asmatrix(y_data).T\n",
    "\n",
    "print(regularizedCost(theta,transformedX_data, y_data, lamda))"
   ]
  },
  {
   "cell_type": "code",
   "execution_count": 30,
   "metadata": {
    "collapsed": false
   },
   "outputs": [
    {
     "name": "stdout",
     "output_type": "stream",
     "text": [
      "[[  8.47457627e-03]\n",
      " [  1.87880932e-02]\n",
      " [  7.77711864e-05]\n",
      " [  5.03446395e-02]\n",
      " [  1.15013308e-02]\n",
      " [  3.76648474e-02]\n",
      " [  1.83559872e-02]\n",
      " [  7.32393391e-03]\n",
      " [  8.19244468e-03]\n",
      " [  2.34764889e-02]\n",
      " [  3.93486234e-02]\n",
      " [  2.23923907e-03]\n",
      " [  1.28600503e-02]\n",
      " [  3.09593720e-03]\n",
      " [  3.93028171e-02]\n",
      " [  1.99707467e-02]\n",
      " [  4.32983232e-03]\n",
      " [  3.38643902e-03]\n",
      " [  5.83822078e-03]\n",
      " [  4.47629067e-03]\n",
      " [  3.10079849e-02]\n",
      " [  3.10312442e-02]\n",
      " [  1.09740238e-03]\n",
      " [  6.31570797e-03]\n",
      " [  4.08503006e-04]\n",
      " [  7.26504316e-03]\n",
      " [  1.37646175e-03]\n",
      " [  3.87936363e-02]]\n"
     ]
    }
   ],
   "source": [
    "def gradient(theta, X,y,lamda):\n",
    "    theta_with_0_as_first = np.insert(theta[1:],0,0)\n",
    "    theta = np.matrix(theta)\n",
    "    theta_with_0_as_first = np.matrix(theta_with_0_as_first)\n",
    "    m = len(y)\n",
    "    error = sigmoidMatrix(X*theta.T) - y\n",
    "    gradient = (X.T * error) / m + (lamda/m) * theta_with_0_as_first.T\n",
    "    return gradient\n",
    "\n",
    "print(gradient(theta,transformedX_data, y_data, lamda))"
   ]
  },
  {
   "cell_type": "code",
   "execution_count": 92,
   "metadata": {
    "collapsed": false
   },
   "outputs": [
    {
     "name": "stdout",
     "output_type": "stream",
     "text": [
      "3.16450933162\n",
      "[[ 0.34604507]\n",
      " [ 0.16135192]\n",
      " [ 0.19479576]\n",
      " [ 0.22686278]\n",
      " [ 0.09218568]\n",
      " [ 0.24438558]\n",
      " [ 0.14339212]\n",
      " [ 0.10844171]\n",
      " [ 0.10231439]\n",
      " [ 0.18346846]\n",
      " [ 0.17353003]\n",
      " [ 0.08725552]\n",
      " [ 0.11822776]\n",
      " [ 0.0858433 ]\n",
      " [ 0.19994895]\n",
      " [ 0.13522653]\n",
      " [ 0.09497527]\n",
      " [ 0.09356441]\n",
      " [ 0.09979784]\n",
      " [ 0.09140157]\n",
      " [ 0.17485242]\n",
      " [ 0.14955442]\n",
      " [ 0.08678566]\n",
      " [ 0.09897686]\n",
      " [ 0.08531951]\n",
      " [ 0.10190666]\n",
      " [ 0.08450198]\n",
      " [ 0.18228323]]\n",
      "0.494537069667\n",
      "[[ 0.32617845 -0.00816167  0.16577566 -0.4467107  -0.11177062 -0.27891206\n",
      "  -0.07146233 -0.0578822  -0.06509221 -0.10636616 -0.33673632 -0.01297725\n",
      "  -0.11670702 -0.02811068 -0.28602736 -0.11614874 -0.03704565 -0.02242813\n",
      "  -0.04885919 -0.04163398 -0.18675511 -0.25334225 -0.00291228 -0.0579624\n",
      "  -0.00053023 -0.0635291  -0.01206538 -0.27148738]]\n"
     ]
    }
   ],
   "source": [
    "lamda = 10\n",
    "theta = np.ones(transformedX_data.shape[1])\n",
    "\n",
    "print(regularizedCost(theta,transformedX_data,y_data,lamda))\n",
    "\n",
    "print(gradient(theta,transformedX_data, y_data,lamda))\n",
    "\n",
    "# lamda = 1\n",
    "# theta = np.ones(transformedX_data.shape[1])\n",
    "\n",
    "from scipy.optimize import fmin_tnc\n",
    "minimum = fmin_tnc(func=regularizedCost, x0=theta, fprime=gradient, args=(transformedX_data, y_data, lamda))\n",
    "cost = regularizedCost(minimum[0],transformedX_data,y_data,lamda)\n",
    "new_theta = np.matrix(minimum[0])\n",
    "print (cost)\n",
    "print (new_theta)"
   ]
  },
  {
   "cell_type": "code",
   "execution_count": null,
   "metadata": {
    "collapsed": false
   },
   "outputs": [],
   "source": []
  },
  {
   "cell_type": "code",
   "execution_count": 38,
   "metadata": {
    "collapsed": false
   },
   "outputs": [
    {
     "data": {
      "text/plain": [
       "matrix([[1, 1, 1, 1, 1, 1, 1, 1, 1, 1, 1, 1, 1, 1, 1, 1, 1, 1, 1, 1, 1, 1,\n",
       "         1, 1, 1, 1, 1, 1, 1, 1, 1, 1, 1, 1, 1, 1, 1, 1, 1, 1, 1, 1, 1, 1,\n",
       "         1, 1, 1, 1, 1, 1, 1, 1, 1, 1, 1, 1, 1, 1, 0, 0, 0, 0, 0, 0, 0, 0,\n",
       "         0, 0, 0, 0, 0, 0, 0, 0, 0, 0, 0, 0, 0, 0, 0, 0, 0, 0, 0, 0, 0, 0,\n",
       "         0, 0, 0, 0, 0, 0, 0, 0, 0, 0, 0, 0, 0, 0, 0, 0, 0, 0, 0, 0, 0, 0,\n",
       "         0, 0, 0, 0, 0, 0, 0, 0]])"
      ]
     },
     "execution_count": 38,
     "metadata": {},
     "output_type": "execute_result"
    }
   ],
   "source": [
    "y_data"
   ]
  },
  {
   "cell_type": "code",
   "execution_count": 66,
   "metadata": {
    "collapsed": false
   },
   "outputs": [
    {
     "name": "stdout",
     "output_type": "stream",
     "text": [
      "[ 0  1  2  3  4  5  6  7  8  9 10 11 12 13 14 15 16 17 18 19 20 21 22 23 24\n",
      " 25 26 27]\n",
      "[[ 0  1  2  3  4  5  6  7  8  9 10 11 12 13 14 15 16 17 18 19 20 21 22 23\n",
      "  24 25 26 27]]\n"
     ]
    },
    {
     "data": {
      "text/plain": [
       "matrix([[ 0,  1,  2,  3,  4,  5,  6,  7,  8,  9, 10, 11, 12, 13, 14, 15, 16,\n",
       "         17, 18, 19, 20, 21, 22, 23, 24, 25, 26, 27]])"
      ]
     },
     "execution_count": 66,
     "metadata": {},
     "output_type": "execute_result"
    }
   ],
   "source": [
    "theta = np.arange(transformedX_data.shape[1])\n",
    "print(theta)\n",
    "theta = np.matrix(theta)\n",
    "print(theta)\n",
    "theta[0][0]"
   ]
  },
  {
   "cell_type": "code",
   "execution_count": null,
   "metadata": {
    "collapsed": true
   },
   "outputs": [],
   "source": []
  }
 ],
 "metadata": {
  "kernelspec": {
   "display_name": "Python 3",
   "language": "python",
   "name": "python3"
  },
  "language_info": {
   "codemirror_mode": {
    "name": "ipython",
    "version": 3
   },
   "file_extension": ".py",
   "mimetype": "text/x-python",
   "name": "python",
   "nbconvert_exporter": "python",
   "pygments_lexer": "ipython3",
   "version": "3.6.0"
  }
 },
 "nbformat": 4,
 "nbformat_minor": 2
}
